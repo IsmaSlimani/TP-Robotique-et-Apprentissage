{
  "nbformat": 4,
  "nbformat_minor": 0,
  "metadata": {
    "colab": {
      "provenance": [],
      "toc_visible": true
    },
    "kernelspec": {
      "name": "python3",
      "display_name": "Python 3"
    },
    "language_info": {
      "name": "python"
    },
    "widgets": {
      "application/vnd.jupyter.widget-state+json": {
        "59562ea7af4449f5a93459c655e629be": {
          "model_module": "@jupyter-widgets/output",
          "model_name": "OutputModel",
          "model_module_version": "1.0.0",
          "state": {
            "_dom_classes": [],
            "_model_module": "@jupyter-widgets/output",
            "_model_module_version": "1.0.0",
            "_model_name": "OutputModel",
            "_view_count": null,
            "_view_module": "@jupyter-widgets/output",
            "_view_module_version": "1.0.0",
            "_view_name": "OutputView",
            "layout": "IPY_MODEL_8fdff66b03ea49cd92aead1e604be715",
            "msg_id": "",
            "outputs": [
              {
                "output_type": "display_data",
                "data": {
                  "image/png": "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\n",
                  "text/plain": "<IPython.core.display.Image object>"
                },
                "metadata": {}
              }
            ]
          }
        },
        "8fdff66b03ea49cd92aead1e604be715": {
          "model_module": "@jupyter-widgets/base",
          "model_name": "LayoutModel",
          "model_module_version": "1.2.0",
          "state": {
            "_model_module": "@jupyter-widgets/base",
            "_model_module_version": "1.2.0",
            "_model_name": "LayoutModel",
            "_view_count": null,
            "_view_module": "@jupyter-widgets/base",
            "_view_module_version": "1.2.0",
            "_view_name": "LayoutView",
            "align_content": null,
            "align_items": null,
            "align_self": null,
            "border": null,
            "bottom": null,
            "display": null,
            "flex": null,
            "flex_flow": null,
            "grid_area": null,
            "grid_auto_columns": null,
            "grid_auto_flow": null,
            "grid_auto_rows": null,
            "grid_column": null,
            "grid_gap": null,
            "grid_row": null,
            "grid_template_areas": null,
            "grid_template_columns": null,
            "grid_template_rows": null,
            "height": null,
            "justify_content": null,
            "justify_items": null,
            "left": null,
            "margin": null,
            "max_height": null,
            "max_width": null,
            "min_height": null,
            "min_width": null,
            "object_fit": null,
            "object_position": null,
            "order": null,
            "overflow": null,
            "overflow_x": null,
            "overflow_y": null,
            "padding": null,
            "right": null,
            "top": null,
            "visibility": null,
            "width": null
          }
        },
        "e5e1a88cc0b843d5bbb5e428d6395d37": {
          "model_module": "@jupyter-widgets/output",
          "model_name": "OutputModel",
          "model_module_version": "1.0.0",
          "state": {
            "_dom_classes": [],
            "_model_module": "@jupyter-widgets/output",
            "_model_module_version": "1.0.0",
            "_model_name": "OutputModel",
            "_view_count": null,
            "_view_module": "@jupyter-widgets/output",
            "_view_module_version": "1.0.0",
            "_view_name": "OutputView",
            "layout": "IPY_MODEL_9a0a3eb2b3a649838a61f0d05cabdbfa",
            "msg_id": "",
            "outputs": [
              {
                "output_type": "display_data",
                "data": {
                  "image/png": "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\n",
                  "text/plain": "<IPython.core.display.Image object>"
                },
                "metadata": {}
              }
            ]
          }
        },
        "9a0a3eb2b3a649838a61f0d05cabdbfa": {
          "model_module": "@jupyter-widgets/base",
          "model_name": "LayoutModel",
          "model_module_version": "1.2.0",
          "state": {
            "_model_module": "@jupyter-widgets/base",
            "_model_module_version": "1.2.0",
            "_model_name": "LayoutModel",
            "_view_count": null,
            "_view_module": "@jupyter-widgets/base",
            "_view_module_version": "1.2.0",
            "_view_name": "LayoutView",
            "align_content": null,
            "align_items": null,
            "align_self": null,
            "border": null,
            "bottom": null,
            "display": null,
            "flex": null,
            "flex_flow": null,
            "grid_area": null,
            "grid_auto_columns": null,
            "grid_auto_flow": null,
            "grid_auto_rows": null,
            "grid_column": null,
            "grid_gap": null,
            "grid_row": null,
            "grid_template_areas": null,
            "grid_template_columns": null,
            "grid_template_rows": null,
            "height": null,
            "justify_content": null,
            "justify_items": null,
            "left": null,
            "margin": null,
            "max_height": null,
            "max_width": null,
            "min_height": null,
            "min_width": null,
            "object_fit": null,
            "object_position": null,
            "order": null,
            "overflow": null,
            "overflow_x": null,
            "overflow_y": null,
            "padding": null,
            "right": null,
            "top": null,
            "visibility": null,
            "width": null
          }
        },
        "411344f204304349a80c313d9acd29e0": {
          "model_module": "@jupyter-widgets/output",
          "model_name": "OutputModel",
          "model_module_version": "1.0.0",
          "state": {
            "_dom_classes": [],
            "_model_module": "@jupyter-widgets/output",
            "_model_module_version": "1.0.0",
            "_model_name": "OutputModel",
            "_view_count": null,
            "_view_module": "@jupyter-widgets/output",
            "_view_module_version": "1.0.0",
            "_view_name": "OutputView",
            "layout": "IPY_MODEL_eb5fb90d355a474785d0dece54bb1d04",
            "msg_id": "",
            "outputs": [
              {
                "output_type": "display_data",
                "data": {
                  "image/png": "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\n",
                  "text/plain": "<IPython.core.display.Image object>"
                },
                "metadata": {}
              }
            ]
          }
        },
        "eb5fb90d355a474785d0dece54bb1d04": {
          "model_module": "@jupyter-widgets/base",
          "model_name": "LayoutModel",
          "model_module_version": "1.2.0",
          "state": {
            "_model_module": "@jupyter-widgets/base",
            "_model_module_version": "1.2.0",
            "_model_name": "LayoutModel",
            "_view_count": null,
            "_view_module": "@jupyter-widgets/base",
            "_view_module_version": "1.2.0",
            "_view_name": "LayoutView",
            "align_content": null,
            "align_items": null,
            "align_self": null,
            "border": null,
            "bottom": null,
            "display": null,
            "flex": null,
            "flex_flow": null,
            "grid_area": null,
            "grid_auto_columns": null,
            "grid_auto_flow": null,
            "grid_auto_rows": null,
            "grid_column": null,
            "grid_gap": null,
            "grid_row": null,
            "grid_template_areas": null,
            "grid_template_columns": null,
            "grid_template_rows": null,
            "height": null,
            "justify_content": null,
            "justify_items": null,
            "left": null,
            "margin": null,
            "max_height": null,
            "max_width": null,
            "min_height": null,
            "min_width": null,
            "object_fit": null,
            "object_position": null,
            "order": null,
            "overflow": null,
            "overflow_x": null,
            "overflow_y": null,
            "padding": null,
            "right": null,
            "top": null,
            "visibility": null,
            "width": null
          }
        },
        "04b67b0bd0a44d3ea8985c517787c8b3": {
          "model_module": "@jupyter-widgets/output",
          "model_name": "OutputModel",
          "model_module_version": "1.0.0",
          "state": {
            "_dom_classes": [],
            "_model_module": "@jupyter-widgets/output",
            "_model_module_version": "1.0.0",
            "_model_name": "OutputModel",
            "_view_count": null,
            "_view_module": "@jupyter-widgets/output",
            "_view_module_version": "1.0.0",
            "_view_name": "OutputView",
            "layout": "IPY_MODEL_ec1bc89bdf1f4304bff6b06d38099e2e",
            "msg_id": "",
            "outputs": [
              {
                "output_type": "display_data",
                "data": {
                  "image/png": "iVBORw0KGgoAAAANSUhEUgAAAWgAAAFoCAYAAAB65WHVAAAv8klEQVR4nO3de3RU5b3/8ffDzETknisQiEm4F4pIIIaIBpQTbieKtEaiSGyXheJpFNof1OKxlOUPqzatLgQVYgWK9IdFu+RQiodGK4uFEIyXconcxQskzQVQEAgkM8/vj8RZhICSEGZ2Mp/XWllr9t7P7Hy/2cmHZ549o8Zai4iIOE+rYBcgIiIXp4AWEXEoBbSIiEMpoEVEHEoBLSLiUApoERGHUkCLiDiUAlpExKEU0CIiDqWAFhFxqAYHtDFmqTGmzBiz6xLHjTHmOWPMAWPMDmNM0pWXKSISehozg14OjP2W4+OA3rVf04AXG/E9RERCXoMD2lq7CTj2LUMmACtsjQKgkzGma2MLFBEJVVdjDbob8MV524dr94mISAO4g/nNjTHTqFkGARgSzFqCwRhDKP7nXkOx71DsGUK2b2utbZLJ79UI6CNA3Hnb3Wv31WOtzQPyAIwxoXgV2bRpU7DLCLi0tDTy8/ODXUZApaenh+y1LigoCHYZATVs2DDTVOe6Gksca4Hs2ndzDAO+staWXIXvIyLSojV4Bm2MWQWMBKKMMYeB3wAeAGvtYmA9MB44AJwGftxUxYqIhJIGB7S19p7vOG6BnzW6IhERAfRJQhERx1JAi4g4lAJaRMShFNAiIg6lgBYRcSgFtIiIQymgRUQcSgEtIuJQCmgREYdSQIuIOJQCWkTEoRTQIiIOpYAWEXEoBbSIiEMpoEVEHEoBLSLiUApoERGHUkCLiDiUAlpExKEU0CIiDqWAFhFxKAW0iIhDKaBboG3btjF58mTuueceVq5ceclxGzduJC0tjT179gBQXV3NE088wf3338999933rc91msLCQn784x9z//338+qrr9Y7vmHDBu666y5++tOf8tOf/pT169cDUFpayoMPPshPf/pTfvKTn/C3v/0t0KVfkVC81lu3buXuu+/mrrvuYsWKFZcc989//pNhw4axe/duAIqKipgyZQpTpkzhvvvuY+PGjQGquPHcwS5AmpbX6+XZZ5/lmWeeITo6mmnTpnHzzTeTkJBQZ9zp06d5/fXX6d+/v3/fO++8Q1VVFX/605+orKwkOzubUaNG0bVr1wB30TBer5eFCxfy9NNPExUVRU5ODqmpqcTHx9cZN2LECB566KE6+yIiIliwYAFhYWGcOXOGqVOnkpqaSlRUVCBbaJRQvda///3vee6554iJieHHP/4xt9xyC4mJiXXGnTp1itWrVzNgwAD/vp49e7Js2TLcbjcVFRVMmTKFm2++GbfbuTGoGXQLs3v3brp160ZsbCwej4dRo0axefPmeuP++Mc/MnnyZMLCwvz7jDFUVlZSXV3N2bNncbvdtG3bNpDlN8revXuJjY2la9eueDweRo4cyZYtWy7ruR6Px/8zqKqqwufzXc1Sm1QoXuuPP/6Y7t27061bNzweD+np6WzatKneuLy8PKZMmVKn59atW/vD+Ny5cwGr+UoooFuYiooKYmJi/NvR0dGUl5fXGbN3717KyspITU2ts3/kyJG0bt2aiRMnkpmZSVZWFh06dAhI3VeioqKC6Oho/3ZUVBQVFRX1xm3evJlp06bx+OOPU1ZW5t9fVlbGtGnTuPfee5k0aVKzmD1DaF7r8vLyOj3HxMTU63nPnj2UlpYyfPjwes/ftWsX99xzD5MnT+aRRx5x9OwZFNAhx+fz8fzzz/Ozn/2s3rHdu3fTqlUr3njjDf7yl7/wl7/8heLi4iBU2fRSU1N55ZVXyMvLIykpidzcXP+xmJgY8vLyWL58Ofn5+Rw/fjyIlTadULzWPp+PBQsW8PDDD1/0+Pe//31WrVrF0qVLWbFiBWfPng1whQ2jgG5hoqKi6swOy8vL68wuT58+zaFDh5gxYwZ33303H3/8MXPmzGHPnj3k5+eTkpKC2+0mPDycgQMH+m8qOVlUVFSdWVRFRUW9WXCHDh38L3fHjRvHvn37LnqehIQEdu7ceXULbiKheK2jo6Prvfq5sOdPPvmE//qv/+LOO++kqKiI2bNn+28UfiMxMZFrr72WTz75JGC1N4YCuoXp168fhw8fpri4mKqqKt5+++06L/XatWvH3/72N1avXs3q1avp378/Tz75JP369aNz5858+OGHAJw5c4aioqJ6N9qcqG/fvhw5coSSkhKqqqrYuHFjvZf0R48e9T/eunUr1113HVATat/Mok6ePMmuXbuIi4sLXPFXIBSv9fe+9z2++OILf8/5+fnccsst/uPt2rVjw4YNrFmzhjVr1jBgwAByc3P53ve+R3FxMdXV1QCUlJTw2WefOf6mqLMXYKTB3G43M2fOZNasWfh8PsaPH09iYiIvv/wyffv25eabb77kcydOnMhTTz1FdnY21lrGjx9Pz549A1h947hcLnJycpgzZw4+n48xY8aQkJDA8uXL6dOnDzfddBNr1qxh69atuFwu2rdvz+zZswH4/PPPWbJkCcYYrLVkZmbWe0eAU4XitXa73cyaNYsZM2bg8/nIyMigR48e5OXl0a9fP9LS0i753O3bt7NixQrcbjfGGGbPnk2nTp0CV3wjGGttsGsAwBjjjEIC7GJ3oFu6tLQ08vPzg11GQF3q3QYtXVpaGgUFBcEuI6CGDRuGtdY0xbm0xCEi4lAKaBERh1JAi4g4lAJaRMShFNAiIg6lgBYRcSgFtIiIQymgRUQcSgEtIuJQCmgREYdSQIuIOJQCWkTEoRTQIiIOpYAWEXEoBbSIiEMpoEVEHEoBLSLiUApoERGHUkCLiDiUAlpExKEU0CIiDqWAFhFxKAW0iIhDNSqgjTFjjTF7jTEHjDG/usjx64wx7xhjPjLG7DDGjL/yUkVEQkuDA9oY4wKeB8YB/YF7jDH9Lxj2GLDaWjsYyAJeuNJCRURCTWNm0DcCB6y1n1hrzwGvAhMuGGOBDrWPOwLFjS9RRCQ0uRvxnG7AF+dtHwZSLhgzD/iHMeYhoC3wH42qTkQkhBlrbcOeYMxdwFhr7U9qt6cAKdbanPPG/KL23H8wxqQCLwPft9b6LjjXNGBa7eaQxrfRPIWFhXHu3LlglxFwodq3hA5rrWmK8zRmBn0EiDtvu3vtvvM9AIwFsNZuNca0BqKAsvMHWWvzgDwAY4zdtGlTI8ppvtLS0sjPzw92GQGXnp7OunXrgl1GQGVkZAS7BGmGGrMGXQj0NsYkGmPCqLkJuPaCMZ8DowCMMd8DWgPlV1KoiEioaXBAW2urgRxgA7CbmndrFBljHjfG3FE77P8AU40x24FVwI9sQ9dSRERCXGOWOLDWrgfWX7Bv7nmPPwaGX1lpIiKhTZ8kFBFxKAW0iIhDKaBFRBxKAS0i4lAKaBERh1JAi4g4lAJaRMShFNAiIg6lgBYRcSgFtIiIQymgRUQcSgEtIuJQCmgREYdSQIuIOJQCWkTEoRTQIiIOpYAWEXEoBbSIiEMpoEVEHEoBLSLiUApoERGHUkCLiDiUO9gFXE3btm3jueeew+fz8Z//+Z/cd999Fx23ceNG5s6dS15eHv369aO6upqnn36affv24fV6GTt27CWf60SFhYW88MIL+Hw+xo0bR1ZWVp3jGzZs4KWXXiIyMhKACRMmMH78eEpLS5k3bx4+nw+v18uECRO4/fbbg9FCg33wwQfk5eXh8/kYPXo0mZmZdY6/9dZbLF261N9zRkYGY8aMAWDZsmUUFhYCkJWVRVpaWmCLF7mEFhvQXq+XZ599lmeeeYbo6GimTZvGzTffTEJCQp1xp0+f5vXXX6d///7+fe+88w5VVVX86U9/orKykuzsbEaNGkXXrl0D3EXDeb1eFi5cyNNPP01UVBQ5OTmkpqYSHx9fZ9yIESN46KGH6uyLiIhgwYIFhIWFcebMGaZOnUpqaipRUVGBbKHBvF4vL774IvPnzycyMpKf//znpKSkcN1119UZd8stt/Dggw/W2VdYWMjBgwdZuHAhVVVVzJkzh6FDh9KmTZtAtiByUS12iWP37t1069aN2NhYPB4Po0aNYvPmzfXG/fGPf2Ty5MmEhYX59xljqKyspLq6mrNnz+J2u2nbtm0gy2+0vXv3EhsbS9euXfF4PIwcOZItW7Zc1nM9Ho//51BVVYXP57uapTaZffv20bVrV7p06YLH4yEtLY2CgoLLeu7nn3/OgAEDcLlctG7dmoSEBD744IOrXLHI5WmxAV1RUUFMTIx/Ozo6mvLy8jpj9u7dS1lZGampqXX2jxw5ktatWzNx4kQyMzPJysqiQ4cOAan7SlVUVBAdHe3fjoqKoqKiot64zZs3M23aNB5//HHKysr8+8vKypg2bRr33nsvkyZNcvzsGeDo0aP1ej569Gi9cVu2bCEnJ4ff/va3/t+FxMREPvzwQyorK/nqq6/YsWNHvd8TkWBpsUsc38Xn8/H8888zZ86cesd2795Nq1ateOONNzh58iQ5OTkMHTqU2NjYIFTa9FJTU7n11lsJCwtj3bp15ObmkpubC0BMTAx5eXlUVFQwb9480tLSCA8PD3LFV+7GG29kxIgReDwe3nzzTZ599ll++9vfkpSUxP79+5k9ezYdO3akX79+uFyuYJcrArTgGXRUVFSdmWF5eXmdWdbp06c5dOgQM2bM4O677+bjjz9mzpw57Nmzh/z8fFJSUnC73YSHhzNw4ED27NkTjDYaLCoqqs4MsKKiot4suEOHDv6ljHHjxrFv376LnichIYGdO3de3YKbQGRkZL2ev7kZ+I0OHTrg8XgAGD16NAcOHPAfmzRpEgsXLmT+/PkALeYfYmn+WmxA9+vXj8OHD1NcXExVVRVvv/02w4cP9x9v164df/vb31i9ejWrV6+mf//+PPnkk/Tr14/OnTvz4YcfAnDmzBmKiorq3WRzqr59+3LkyBFKSkqoqqpi48aN9ZZwzn/5v3XrVv/NtPLycs6ePQvAyZMn2bVrF3FxcYErvpH69OlDcXEx//73v6mqqmLTpk2kpKTUGXPs2DH/423btvn78nq9nDhxAoBDhw5x6NAhkpKSAle8yLdosUscbrebmTNnMmvWLHw+H+PHjycxMZGXX36Zvn37cvPNN1/yuRMnTuSpp54iOzsbay3jx4+nZ8+eAay+8VwuFzk5OcyZMwefz8eYMWNISEhg+fLl9OnTh5tuuok1a9awdetWXC4X7du3Z/bs2UDNDbMlS5ZgjMFaS2ZmJomJiUHu6Lu5XC6mT5/O3Llz8fl8pKenEx8fz8qVK+nduzcpKSmsXbuW9957j1atWtG+fXtmzpwJ1AT0I488AkCbNm2YNWuWljjEMYy1Ntg1AGCMsZs2bQp2GQGVlpZGfn5+sMsIuPT0dNatWxfsMgIqIyMj2CVIAFlrTVOcp8UucYiINHcKaBERh1JAi4g4lAJaRMShFNAiIg6lgBYRcSgFtIiIQymgRUQcSgEtIuJQCmgREYdSQIuIOJQCWkTEoRTQIiIOpYAWEXEoBbSIiEMpoEVEHEoBLSLiUApoERGHUkCLiDiUAlpExKEU0CIiDqWAFhFxKAW0iIhDKaBFRByqwQFtjBlrjNlrjDlgjPnVJcbcbYz52BhTZIz5f1depohI6HE3ZLAxxgU8D6QDh4FCY8xaa+3H543pDcwBhltrjxtjYpqyYBGRUNHQGfSNwAFr7SfW2nPAq8CEC8ZMBZ631h4HsNaWXXmZIiKhp6EB3Q344rztw7X7ztcH6GOMedcYU2CMGXslBYqIhKoGLXE04Jy9gZFAd2CTMWagtfbLCwcaY6YB077ZTktLuwrlOFdYWBjp6enBLiPgPB4PGRkZwS4joDweD1VVVcEuI+BCsW9jTJOdq6EBfQSIO2+7e+2+8x0Gtllrq4BDxph91AR24YUns9bmAXkAxhibn5/fwHKat/T0dNatWxfsMgIuIyOD1157LdhlBFRmZiYrVqwIdhkBl52dHZLXuqk0dImjEOhtjEk0xoQBWcDaC8asoWb2jDEmipolj0+urEwRkdDToIC21lYDOcAGYDew2lpbZIx53BhzR+2wDcBRY8zHwDvAbGvt0aYsWkQkFDR4Ddpaux5Yf8G+uec9tsAvar9ERKSR9ElCERGHUkCLiDiUAlpExKEU0CIiDqWAFhFxKAW0iIhDKaBFRBxKAS0i4lAKaBERh1JAi4g4lAJaRMShFNAiIg6lgBYRcSgFtIiIQymgRUQcSgEtIuJQCmgREYdSQIuIOJQCWkTEoRTQIiIOpYAWEXGoBv9fvZuTwsJCXnjhBXw+H+PGjSMrK6vO8Q0bNvDSSy8RGRkJwIQJExg/fjylpaXMmzcPn8+H1+tlwoQJ3H777cFoocE++OAD8vLy8Pl8jB49mszMzDrH33rrLZYuXervOSMjgzFjxgCwbNkyCgsLAcjKyiItLS2wxV+Bjz76iGXLluHz+Rg1ahQTJ06sN2bLli2sXr0aYwzx8fHMnDkTgPLychYvXszRo0cBePTRR4mJiQlk+Y22Y8cOVq5cic/nY8SIEfV+T//85z+ze/duAM6ePcvJkydZvHgxFRUVLFiwAGstXq+X9PR0brvttmC00GChdK1bbEB7vV4WLlzI008/TVRUFDk5OaSmphIfH19n3IgRI3jooYfq7IuIiGDBggWEhYVx5swZpk6dSmpqKlFRUYFsocG8Xi8vvvgi8+fPJzIykp///OekpKRw3XXX1Rl3yy238OCDD9bZV1hYyMGDB1m4cCFVVVXMmTOHoUOH0qZNm0C20Cher5eXX36ZX//610RERPhrj4uL848pKSnhjTfeYP78+bRr146vvvrKf2zRokX84Ac/YNCgQZw5c4ZWrZrHC0ufz8eKFSv45S9/SUREBL/5zW9ISkqiW7du/jGTJ0/2P/7HP/7BZ599BkCnTp2YO3cuHo+HyspKHn30UQYPHkx4eHjA+2iIULvWzq7uCuzdu5fY2Fi6du2Kx+Nh5MiRbNmy5bKe6/F4CAsLA6Cqqgqfz3c1S20y+/bto2vXrnTp0gWPx0NaWhoFBQWX9dzPP/+cAQMG4HK5aN26NQkJCXzwwQdXueKmceDAAbp06ULnzp3xeDwMHz6c999/v86Yt956i7Fjx9KuXTsAOnbsCMAXX3yB1+tl0KBBAFx77bVcc801gW2gkQ4ePEhMTAwxMTG43W6GDRvGhx9+eMnxBQUFpKamAuB2u/F4PEDz+h0PtWvdYmfQFRUVREdH+7ejoqLYs2dPvXGbN29m586ddO/enenTp/tf7pSVlfHYY49RXFzM1KlTHT97Bjh69Gi9nvfu3Vtv3JYtWygqKiI2NpapU6cSHR1NYmIiq1atYuLEiZw9e5YdO3bUmZU42bFjx/xLNlDzCmj//v11xpSUlADw2GOP4fP5yMzMZPDgwZSUlNC2bVtyc3MpKytj4MCBTJ48GZfLFdAeGuP48eP1+j548OBFx1ZUVFBeXk7//v39+44ePcozzzxDaWkpWVlZjp89Q+hd6xY7g74cqampvPLKK+Tl5ZGUlERubq7/WExMDHl5eSxfvpz8/HyOHz8exEqbzo033sjSpUtZtGgRgwcP5tlnnwUgKSmJoUOHMnv2bHJzc+nXr5+jf3Ebyuv1UlJSwrx585gxYwZLlizh1KlTeL1edu/eTXZ2Nk899RRlZWVs3Lgx2OU2uYKCApKTk+u8pI+MjOSJJ54gNzeXzZs311kKaM5a0rVusQEdFRVFeXm5f7uioqLeLLhDhw7+pYxx48axb9++i54nISGBnTt3Xt2Cm0BkZGS9ns+fbUBNz9+8tB09ejQHDhzwH5s0aRILFy5k/vz5AMTGxgag6isXERHhv+kD9WdZUPOzSU5Oxu1207lzZ7p27UpJSQmRkZEkJCTQuXNnXC4XycnJHDp0KNAtNEp4eHi9vi81Cz5/eeNi5+nWrdtFX205Tahd6xYb0H379uXIkSOUlJRQVVXFxo0b6/2Cnn+ht27d6r+ZVl5eztmzZwE4efIku3btahYv9/v06UNxcTH//ve/qaqqYtOmTaSkpNQZc+zYMf/jbdu2+fvyer2cOHECgEOHDnHo0CGSkpICV/wV6NWrFyUlJZSWllJVVcW7777L0KFD64xJTk6mqKgIgBMnTlBSUkLnzp3p2bMnp0+f9s8ed+3aRffu3QPeQ2P06NGD0tJSysvLqa6upqCggMGDB9cbV1xczOnTp+nVq5d/37Fjxzh37hwAp06d8t+/cLpQu9Ytdg3a5XKRk5PDnDlz8Pl8jBkzhoSEBJYvX06fPn246aabWLNmDVu3bsXlctG+fXtmz54N1NwwW7JkCcYYrLVkZmaSmJgY5I6+m8vlYvr06cydOxefz0d6ejrx8fGsXLmS3r17k5KSwtq1a3nvvfdo1aoV7du397/9yOv18sgjjwDQpk0bZs2a1WyWOFwuFw888ABPPPEEPp+PW2+9lbi4OF599VV69uxJcnIyN9xwA9u3b2fmzJm0atWKKVOm0L59ewCmTJnC448/jrWWHj16MGrUqCB3dHlcLhfZ2dn87ne/w1pLWloa3bt3569//SuJiYn+f2ALCgpISUnBGON/bnFxMatWrfJvjx8/vllMQkLtWhtrbbBrAMAYY/Pz84NdRkClp6ezbt26YJcRcBkZGbz22mvBLiOgMjMzWbFiRbDLCLjs7OyQvNbWWvPdI79bi13iEBFp7hTQIiIOpYAWEXEoBbSIiEMpoEVEHEoBLSLiUApoERGHUkCLiDiUAlpExKEU0CIiDqWAFhFxKAW0iIhDKaBFRBxKAS0i4lAKaBERh1JAi4g4lAJaRMShFNAiIg6lgBYRcSgFtIiIQymgRUQcSgEtIuJQCmgREYdSQIuIOFSjAtoYM9YYs9cYc8AY86tvGfdDY4w1xgxtfIkiIqGpwQFtjHEBzwPjgP7APcaY/hcZ1x6YAWy70iJFREJRY2bQNwIHrLWfWGvPAa8CEy4y7v8CTwOVV1CfiEjIakxAdwO+OG/7cO0+P2NMEhBnrf37FdQmIhLarLUN+gLuAv543vYUYNF5262AjUBC7fZGYOglzjUNeL/2y4bal8fjCXoN6ls966vpvxqaq5f6ctNwR4C487a71+77Rnvg+8BGYwxAF2CtMeYOa+3755/IWpsH5AEYY+y6desaUU7zlZGRwWuvvRbsMgIuMzOTFStWBLuMgMrOzmbx4sXBLiPgpk+fHuwSmrXGLHEUAr2NMYnGmDAgC1j7zUFr7VfW2ihrbYK1NgEoAOqFs4iIfLsGB7S1thrIATYAu4HV1toiY8zjxpg7mrpAEZFQ1ZglDqy164H1F+ybe4mxIxvzPUREQp0+SSgi4lAKaBERh1JAi4g4lAJaRMShFNAiIg6lgBYRcSgFtIiIQymgRUQcSgEtIuJQCmgREYdSQIuIOJQCWkTEoRTQIiIOpYAWEXEoBbSIiEMpoEVEHEoBLSLiUApoERGHUkCLiDiUAlpExKEU0CIiDqWAFhFxKHewC7iaPvjgA/Ly8vD5fIwePZrMzMw6x9966y2WLl1KZGQkABkZGYwZMwaAZcuWUVhYCEBWVhZpaWmBLb6RPvroI5YtW4bP52PUqFFMnDix3pgtW7awevVqjDHEx8czc+ZMAMrLy1m8eDFHjx4F4NFHHyUmJiaQ5Tfajh07WLlyJT6fjxEjRnD77bfXOf7nP/+Z3bt3A3D27FlOnjzJ4sWLqaioYMGCBVhr8Xq9pKenc9tttwWjhUYpKipi9erV+Hw+hg8fztixY+scP3bsGMuXL+fMmTP4fD7uvPNOBg4cyNdff01eXh6fffYZw4YN45577glSB/JtWmxAe71eXnzxRebPn09kZCQ///nPSUlJ4brrrqsz7pZbbuHBBx+ss6+wsJCDBw+ycOFCqqqqmDNnDkOHDqVNmzaBbKHBvF4vL7/8Mr/+9a+JiIjw1x0XF+cfU1JSwhtvvMH8+fNp164dX331lf/YokWL+MEPfsCgQYM4c+YMrVo1jxdYPp+PFStW8Mtf/pKIiAh+85vfkJSURLdu3fxjJk+e7H/8j3/8g88++wyATp06MXfuXDweD5WVlTz66KMMHjyY8PDwgPfRUD6fj1WrVjFjxgzCw8N58sknuf7664mNjfWPWb9+PUOGDGHEiBEUFxezaNEiBg4ciMfj4Y477qC4uJgjR44EsQv5Ns3jL7AR9u3bR9euXenSpQsej4e0tDQKCgou67mff/45AwYMwOVy0bp1axISEvjggw+ucsVX7sCBA3Tp0oXOnTvj8XgYPnw477//fp0xb731FmPHjqVdu3YAdOzYEYAvvvgCr9fLoEGDALj22mu55pprAttAIx08eJCYmBhiYmJwu90MGzaMDz/88JLjCwoKSE1NBcDtduPxeACoqqrC5/MFpOam8OmnnxITE0N0dDRut5vk5GR27NhRZ4wxhsrKSgAqKyvp1KkTANdccw29evXC7W6xc7QWocVenaNHjxIdHe3fjoqKYu/evfXGbdmyhaKiImJjY5k6dSrR0dEkJiayatUqJk6cyNmzZ9mxY0edWahTHTt2zL9cAxAREcH+/fvrjCkpKQHgsccew+fzkZmZyeDBgykpKaFt27bk5uZSVlbGwIEDmTx5Mi6XK6A9NMbx48fr9X3w4MGLjq2oqKC8vJz+/fv79x09epRnnnmG0tJSsrKymsXsGWr6Pr/WTp06cejQoTpjMjIyWLBgAe+88w7nzp1jxowZgS5TrkCLnUFfjhtvvJGlS5eyaNEiBg8ezLPPPgtAUlISQ4cOZfbs2eTm5tKvX79mEVSXw+v1UlJSwrx585gxYwZLlizh1KlTeL1edu/eTXZ2Nk899RRlZWVs3Lgx2OU2uYKCApKTk+ss30RGRvLEE0+Qm5vL5s2b6yz7NHeFhYWkpqby1FNPkZOT478/Ic1Diw3oyMhIysvL/dsVFRV1ZlkAHTp08L+8HT16NAcOHPAfmzRpEgsXLmT+/PkAddb1nCoiIsJ/gw/qz6ih5ueSnJyM2+2mc+fOdO3alZKSEiIjI0lISKBz5864XC6Sk5PrzcacKjw8vF7fl5oFn7+8cbHzdOvW7aKvtJwoPDyc48eP+7e//PLLen2/++67DBkyBIAePXpQXV3N119/HdA6pfFabED36dOH4uJi/v3vf1NVVcWmTZtISUmpM+bYsWP+x9u2bfMvY3i9Xk6cOAHAoUOHOHToEElJSYErvpF69epFSUkJpaWlVFVV8e677zJ06NA6Y5KTkykqKgLgxIkTlJSU0LlzZ3r27Mnp06f9s8ddu3bRvXv3gPfQGD169KC0tJTy8nKqq6spKChg8ODB9cYVFxdz+vRpevXq5d937Ngxzp07B8CpU6f89y6ag/j4eMrKyqioqKC6uprCwkKuv/76OmMiIiLYs2cPULO8VVVVRfv27YNRrjRCi12DdrlcTJ8+nblz5+Lz+UhPTyc+Pp6VK1fSu3dvUlJSWLt2Le+99x6tWrWiffv2/rebeb1eHnnkEQDatGnDrFmzmsUSh8vl4oEHHuCJJ57A5/Nx6623EhcXx6uvvkrPnj1JTk7mhhtuYPv27cycOZNWrVoxZcoU/x/slClTePzxx7HW0qNHD0aNGhXkji6Py+UiOzub3/3ud1hrSUtLo3v37vz1r38lMTHR/49rQUEBKSkpGGP8zy0uLmbVqlX+7fHjxzeL+w1Q0/ekSZN47rnn8Pl83HTTTcTGxrJ27Vri4+MZNGgQP/zhD1m5ciVvv/02xhjuv/9+f/+PPvoolZWVeL1etm/fzsMPP9wsXimGEmOtDXYNABhj7Lp164JdRkBlZGTw2muvBbuMgMvMzGTFihXBLiOgsrOzWbx4cbDLCLjp06cHu4SgsNaa7x713VrsEoeISHOngBYRcSgFtIiIQymgRUQcSgEtIuJQCmgREYdSQIuIOJQCWkTEoRTQIiIOpYAWEXEoBbSIiEMpoEVEHEoBLSLiUApoERGHUkCLiDiUAlpExKEU0CIiDqWAFhFxKAW0iIhDKaBFRBxKAS0i4lAKaBERh1JAi4g4lAJaRMShGhzQxpixxpi9xpgDxphfXeT4L4wxHxtjdhhj3jbGxDdNqSIioaVBAW2McQHPA+OA/sA9xpj+Fwz7CBhqrb0eeB34XVMUKiISaho6g74ROGCt/cRaew54FZhw/gBr7TvW2tO1mwVA9ysvU0Qk9DQ0oLsBX5y3fbh236U8ALzZ0KJERASMtfbyBxtzFzDWWvuT2u0pQIq1NuciY+8DcoAR1tqzlzjfNGBa7eaQBtYuzZTb7aa6ujrYZQRUKPYModu3tdY0xXncDRx/BIg7b7t77b46jDH/Afw33xLOANbaPCCv9jk2Pz+/geU0b+np6cEuISiqq6tZvHhxsMsIqOnTp/P73/8+2GUE3KxZs5g3b16wywiopuy3oUschUBvY0yiMSYMyALWnj/AGDMYWALcYa0ta5oyRURCT4MC2lpbTc2yxQZgN7DaWltkjHncGHNH7bBcoB3wmjHmX8aYtZc4nYiIfIuGLnFgrV0PrL9g39zzHv9HE9QlIhLy9ElCERGHUkCLiDiUAlpExKEU0CIiDqWAFhFxKAW0iIhDKaBFRBxKAS0i4lAKaBERh1JAi4g4lAJaRMShFNAiIg6lgBYRcSgFtIiIQymgRUQcSgEtIuJQCmgREYdSQIuIOJQCWkTEoRTQIiIOpYAWEXGoBv9fvZuTwsJCXnjhBXw+H+PGjSMrK6vO8Q0bNvDSSy8RGRkJwIQJExg/fjylpaXMmzcPn8+H1+tlwoQJ3H777cFoQS5TUVERq1evxufzMXz4cMaOHVvn+LFjx1i+fDlnzpzB5/Nx5513MnDgQL7++mvy8vL47LPPGDZsGPfcc0+QOrhye/bs4X/+53/w+XykpKRw22231Tl+7NgxVq9ezalTp7j22mu599576dSpU3CKbSJr1qxh3759tG3blp/97Gf1jltrefPNN9m/fz8ej4c777yT2NjYIFTaOC02oL1eLwsXLuTpp58mKiqKnJwcUlNTiY+PrzNuxIgRPPTQQ3X2RUREsGDBAsLCwjhz5gxTp04lNTWVqKioQLYgl8nn87Fq1SpmzJhBeHg4Tz75JNdff32dP8T169czZMgQRowYQXFxMYsWLWLgwIF4PB7uuOMOiouLOXLkSBC7uDI+n4833niDadOm0bFjRxYsWED//v3p0qWLf8y6desYMmQIycnJ7N+/n/Xr13PvvfcGseord8MNN3DjjTfyxhtvXPT4/v37OXbsGA8//DCHDx/m73//O1OnTg1wlY3XYpc49u7dS2xsLF27dsXj8TBy5Ei2bNlyWc/1eDyEhYUBUFVVhc/nu5qlyhX69NNPiYmJITo6GrfbTXJyMjt27KgzxhhDZWUlAJWVlf6Z4zXXXEOvXr1wu5v3XOXzzz8nMjKSyMhI3G43N9xwA0VFRXXGlJaW0rt3bwB69epV73hzlJCQwLXXXnvJ43v37mXQoEEYY4iLi6OyspKTJ08GsMIr07x/K79FRUUF0dHR/u2oqCj27NlTb9zmzZvZuXMn3bt3Z/r06cTExABQVlbGY489RnFxMVOnTtXs2cGOHz9OeHi4f7tTp04cOnSozpiMjAwWLFjAO++8w7lz55gxY0agy7yqvvrqqzrLFZ06deKzzz6rMyY2NpadO3dyyy23sGvXLs6ePcupU6do27ZtgKsNnBMnTtChQwf/docOHThx4gTt27cPYlWXr8XOoC9Hamoqr7zyCnl5eSQlJZGbm+s/FhMTQ15eHsuXLyc/P5/jx48HsVK5UoWFhaSmpvLUU0+Rk5PDsmXLQu6VUUZGBgcPHuSZZ57h4MGDdOzYkVatQjoCHK/FXp2oqCjKy8v92xUVFfVmwR06dPAvZYwbN459+/Zd9DwJCQns3Lnz6hYsjRYeHl7nH9Avv/yyzowa4N1332XIkCEA9OjRg+rqar7++uuA1nk1dezYkS+//NK//eWXX9KxY8d6Y370ox/xi1/8gnHjxgF86/JAS/DNjPkbF86ona7FBnTfvn05cuQIJSUlVFVVsXHjRlJTU+uMOXr0qP/x1q1bue666wAoLy/n7NmzAJw8eZJdu3YRFxcXuOKlQeLj4ykrK6OiooLq6moKCwu5/vrr64yJiIjwL3F98zvRXF7mXo64uDgqKio4evQo1dXV/Otf/2LAgAF1xpw6dcr/quGf//wnycnJwSg1oPr27cv27dux1vLFF19wzTXXNKvr3mLXoF0uFzk5OcyZMwefz8eYMWNISEhg+fLl9OnTh5tuuok1a9awdetWXC4X7du3Z/bs2UDNDZclS5ZgjMFaS2ZmJomJiUHuSC7F5XIxadIknnvuOXw+HzfddBOxsbGsXbuW+Ph4Bg0axA9/+ENWrlzJ22+/jTGG+++/H2MMAI8++iiVlZV4vV62b9/Oww8/3KzeigU1P4OJEyfy0ksvYa0lOTmZLl268L//+7/ExcUxYMAADhw4wJtvvgnUvIr4wQ9+EOSqr9zrr7/Op59+yunTp/nDH/7ArbfeitfrBSA5OZnevXuzf/9+nnvuOTweDxMmTAhyxQ1jrLXBrgEAY4zNz88PdhkBlZ6eHuwSgmbx4sXBLiGgpk+fzu9///tglxFws2bNYt68ecEuI6DmzZuHtdY0xbla7BKHiEhzp4AWEXEoBbSIiEMpoEVEHEoBLSLiUApoERGHUkCLiDiUAlpExKEU0CIiDqWAFhFxKAW0iIhDKaBFRBxKAS0i4lAKaBERh1JAi4g4lAJaRMShFNAiIg6lgBYRcSgFtIiIQymgRUQcSgEtIuJQCmgREYdSQIuIOJQCWkTEoRoV0MaYscaYvcaYA8aYX13k+DXGmL/UHt9mjEm44kpFREJMgwPaGOMCngfGAf2Be4wx/S8Y9gBw3FrbC3gWePpKCxURCTWNmUHfCByw1n5irT0HvApMuGDMBOBPtY9fB0YZY0zjyxQRCT2NCehuwBfnbR+u3XfRMdbaauArILIxBYqIhCpjrW3YE4y5Cxhrrf1J7fYUIMVam3PemF21Yw7Xbh+sHVNxwbmmAdNqN4c0ugsREeew1tomeQOGuxHPOQLEnbfdvXbfxcYcNsa4gY7A0QtPZK3NA/IAjDHvW2uHNqKeZisUe4bQ7DsUe4bQ7NsY835TnasxKV8I9DbGJBpjwoAsYO0FY9YC99c+vgv4p23oVF1EJMQ1eAZtra02xuQAGwAXsNRaW2SMeRx431q7FngZeMUYcwA4Rk2Ii4hIAzRmiQNr7Xpg/QX75p73uBLIbOBp8xpTSzMXij1DaPYdij1DaPbdZD03+CahiIgEhj7qLSLiUAEN6FD9iPhl9P0LY8zHxpgdxpi3jTHxwaizKX1Xz+eN+6ExxhpjWsSd/svp2xhzd+31LjLG/L9A19jULuP3+zpjzDvGmI9qf8fHB6POpmSMWWqMKat9S/HFjhtjzHO1P5MdxpikRn0ja21Avqi5oXgQ6AGEAduB/heM+S9gce3jLOAvgaovyH3fCrSpffxgc+/7cnquHdce2AQUAEODXXeArnVv4CMgvHY7Jth1B6DnPODB2sf9gU+DXXcT9J0GJAG7LnF8PPAmYIBhwLbGfJ9AzqBD9SPi39m3tfYda+3p2s0Cat5b3pxdzrUG+L/U/HdaKgNZ3FV0OX1PBZ631h4HsNaWBbjGpnY5PVugQ+3jjkBxAOu7Kqy1m6h5h9qlTABW2BoFQCdjTNeGfp9ABnSofkT8cvo+3wPU/MvbnH1nz7Uv+eKstX8PZGFX2eVc6z5AH2PMu8aYAmPM2IBVd3VcTs/zgPuMMYepeffXQ4EpLaga+nd/UY16m51cHcaY+4ChwIhg13I1GWNaAc8APwpyKcHgpmaZYyQ1r5Q2GWMGWmu/DGZRV9k9wHJr7R+MManUfEbi+9ZaX7ALc7pAzqAb8hFxvu0j4s3M5fSNMeY/gP8G7rDWng1QbVfLd/XcHvg+sNEY8yk1a3RrW8CNwsu51oeBtdbaKmvtIWAfNYHdXF1Ozw8AqwGstVuB1kBUQKoLnsv6u/8ugQzoUP2I+Hf2bYwZDCyhJpyb+5okfEfP1tqvrLVR1toEa20CNevud1hrm+y/YRAkl/M7voaa2TPGmChqljw+CWCNTe1yev4cGAVgjPkeNQFdHtAqA28tkF37bo5hwFfW2pIGnyXAdz7HUzNjOAj8d+2+x6n544SaC/cacAB4D+gR7Lu1Aer7LaAU+Fft19pg13y1e75g7EZawLs4LvNaG2qWdz4GdgJZwa45AD33B96l5h0e/wJGB7vmJuh5FVACVFHzqugBYDow/bzr/Hztz2RnY3+/9UlCERGH0icJRUQcSgEtIuJQCmgREYdSQIuIOJQCWkTEoRTQIiIOpYAWEXEoBbSIiEMpoEVEHEoBLSLiUApoERGHUkCLiDjU/wdAJS1++tZougAAAABJRU5ErkJggg==\n",
                  "text/plain": "<IPython.core.display.Image object>"
                },
                "metadata": {}
              }
            ]
          }
        },
        "ec1bc89bdf1f4304bff6b06d38099e2e": {
          "model_module": "@jupyter-widgets/base",
          "model_name": "LayoutModel",
          "model_module_version": "1.2.0",
          "state": {
            "_model_module": "@jupyter-widgets/base",
            "_model_module_version": "1.2.0",
            "_model_name": "LayoutModel",
            "_view_count": null,
            "_view_module": "@jupyter-widgets/base",
            "_view_module_version": "1.2.0",
            "_view_name": "LayoutView",
            "align_content": null,
            "align_items": null,
            "align_self": null,
            "border": null,
            "bottom": null,
            "display": null,
            "flex": null,
            "flex_flow": null,
            "grid_area": null,
            "grid_auto_columns": null,
            "grid_auto_flow": null,
            "grid_auto_rows": null,
            "grid_column": null,
            "grid_gap": null,
            "grid_row": null,
            "grid_template_areas": null,
            "grid_template_columns": null,
            "grid_template_rows": null,
            "height": null,
            "justify_content": null,
            "justify_items": null,
            "left": null,
            "margin": null,
            "max_height": null,
            "max_width": null,
            "min_height": null,
            "min_width": null,
            "object_fit": null,
            "object_position": null,
            "order": null,
            "overflow": null,
            "overflow_x": null,
            "overflow_y": null,
            "padding": null,
            "right": null,
            "top": null,
            "visibility": null,
            "width": null
          }
        },
        "612838e1fcc5402fb8c7f77eb3d7621b": {
          "model_module": "@jupyter-widgets/output",
          "model_name": "OutputModel",
          "model_module_version": "1.0.0",
          "state": {
            "_dom_classes": [],
            "_model_module": "@jupyter-widgets/output",
            "_model_module_version": "1.0.0",
            "_model_name": "OutputModel",
            "_view_count": null,
            "_view_module": "@jupyter-widgets/output",
            "_view_module_version": "1.0.0",
            "_view_name": "OutputView",
            "layout": "IPY_MODEL_3244664c34744fcda38d86f68e57a836",
            "msg_id": "",
            "outputs": [
              {
                "output_type": "display_data",
                "data": {
                  "image/png": "iVBORw0KGgoAAAANSUhEUgAAAWgAAAFoCAYAAAB65WHVAABwsklEQVR4nO3deZhU1Z34//e5t5au3qqr95XuZgcBEdlVUAkqiiJGBDViZhIcnTHRZOLkq5NRkslmSPSnxomSRI3jxIhJNMYlilGDIiCisu/dLE03ve+133t+f1RRdjUg0FtVF+f1PDx03bpV93P6Vn/q3HPOPUdIKVEURVHijxbrABRFUZQTUwlaURQlTqkErSiKEqdUglYURYlTKkEriqLEKZWgFUVR4pRK0IqiKHFKJWhFUZQ4pRK0oihKnFIJWlEUJU5ZYh3AMZqmybPxtnMhBGdbuc/GMoMq91lISil7VQmOmwR9lp5ApJSsWbMm1mEMqFmzZrF69epYhzHg5s6de9adawid7/Xr18c6jAE3ffp00dv3UE0ciqIocUolaEVRlDilErSiKEqcUglaURQlTqkErSiKEqdUglYURYlTKkEriqLEqTNO0EKIp4QQdUKIbSd5XgghHhVC7BNCbBFCTOp9mIqiKGefntSgnwGu+ILn5wEjwv9uA37Vg2MoiqKc9c44QUsp1wBNX7DLAuBZGbIeyBBCFPQ0QEVRlLNVf7RBFwGHuzyuCm9TFEVRzkBM5+IQQtxGqBlEURRF6aY/atBHgJIuj4vD244jpVwppZwspZzcD3EopyH39ddJ3r8/1mEMCEt7O9kffogIBGIdyoBI2bOHlF27Yh3GwAgGyVi7Fr2tLdaR9Kn+SNCvAEvDozmmA61Sypp+OI7SS0nV1WR8+inZ770HphnrcPpd2t69pO/eTfLhw6feeZATPh/p27aRvn07mtcb63D6XVJVFcm7d5O8e3esQ+lTPRlm9zywDhglhKgSQnxNCHG7EOL28C6vAxXAPuDXwL/2WbRKn3KtW0cgLQ1bYyPJBw7EOpx+pXd2klpRgaeggIwdOxCGEeuQ+lXygQNgGGCaJFdWxjqc/mUYpG7dii8/H0dlJXpHR6wj6jNn3AYtpbzxFM9L4N96HJEyIGy1taRUVODNz0d2dJD1/vu4y8tB9HoK27iUun8/aBqGw4Glvh5HVRXu0tJYh9UvhN9P2o4dBDIyAEjbtYvOoUORdntsA+sn9upqdLcbf14eusdD8t69tJ93XqzD6hPqTsKzVOaGDZg2GwhBMC0Ne20tjkOHYh1Wv9A9HtL37sUXTliBtDQytm8P1TATkOPgQbRAAGm1Iq1WRDBI8sGDsQ6rf5gmqdu2EUxLAyCQkUHy3r1onZ0xDqxvqAR9FrI2NJC6ezd+lyuyLZiSQubatTGMqv+kVFSEftB1AMykJCwdHTiOHo1hVP1DBIOk7diBP/xlBOB3OknbsSMhO0dtR49iaW3FTE4ObdB1pKbhSJCOb5Wgz0Kujz7CtFhA+/z0B51OHEeOkFRVFcPI+p7m85G+Z09UwoJQLdq5bVvCdY4mHT6M7vMhbbbINmmzofn9iXeFJCWpW7dGas/HBFwuUnbvTojO0bhZk1AZGJrHE6pNSYm9thZLeztGSgpS00LJbMsWvMXFsQ6zzyRVV2Pp7ESEE7G1o4NAaioAmt+PrakJf3Z2LEPsU6l79yKCQWz19eiBAEiJYbMhDIPUvXtxDxsW6xD7jKW5GWtjI9JqRXe7sbS3R5K17vFgO3IE7yAvr0rQZxnT4eDIkiWIYBCA/Ndew11eTtvYsQCRjqVE4S0qouayywCwuN04t22jafJkZPjqoWszTyJonjYNzecDwPnZZyAlreEOM7NLrToRBDMyaPrSlwAQUpL+0Ud0jhtHMCUl9LzTGcvw+oRK0Geh7jVkv8uFp6wsNsH0M9Nmw5ebG/q5pQUAX3Y20pKYH/2uSUlqGsIw8IfLn3A0jcCxsoU7fANOJ8HMzBgG1bdUG7SiKEqcUglaURQlTqkErSiKEqcSsyHuLLdhwwYeffRRTNPkqquu4itf+coJ93vvvffY8MILjMvNJQUIBoM8+OCD7NmzB8MwuOKKK0762ni0ceNG/ud//gfTNJk3bx5LliyJev7dd9+l+amn+NsrrxAUggULFnDllVdSW1vL8uXLMU0TwzBYsGABV199dYxKcebO5Hzff//9rFy5ktGjRw/6871u3ToefvhhTNNkwfz5fCsr64T7vfPOO9x33308/fTTjBkzhu3bt/PTn/4UACklX//617n44osHMPLTpxJ0gjEMg4cffpiHHnqInJwcbrvtNi688ELKunUCut1u/vjHP3J3lw6Vd999l0AgwO9+9zu8Xi9Lly5lzpw5FBTE/3oLhmHw2GOP8eCDD5Kdnc2dd97JjBkzKO12O/fIkSO55sEHozoJMzMzeeSRR7DZbHg8HpYtW8aMGTPIHgTD7870fI8Nj9aBwX++f/7zn/Poo4+Sm5vL1776VW750peOS2idnZ2sWrWKc845J7Jt2LBhPP3001gsFhoaGrjlllu48MILscRhx7Fq4kgwO3fupKioiMLCQqxWK3PmzOGDDz44br/f/OY33Hzzzejhu+sAhBB4vV6CwSA+nw+LxUJKeMhSvNu9ezeFhYUUFBRgtVq5+OKL+fDDD0/rtVarFVt4CFogEMAcRDevnOn5tnUZajeYz/eOHTsoLi6mqKgIq9XKl770JfacYCa7lStXcsstt0SVOykpKZKM/X7/gMXcEypBJ5iGhgZyuwyrysnJob6+Pmqf3bt3U1dXx4wZM6K2X3zxxSQlJbFw4UIWLVrEkiVLSE9PH5C4e6uhoYGcnJzI4+zsbBoaGo7bb9++fdxxxx384Ac/oK6uLrK9rq6O2267jZtuuonFixcPitoznL3nu76+Pqrcubm5tLe3R+2za9cuamtrueCCC457/bZt27jxxhu5+eab+e53vxuXtWdQCfqsY5omjz/+OP/2b6EJB4NCEAzXLnbu3Immabz00ku88MILvPDCC1RXV8cy3D51/tSpfHXZMn71xBNMmjSJFStWRJ7Lzc1l5cqVPPPMM6xevZrm5uYYRto3gikpBByOqPPdVUKdbyEwNO3z+VZMk0ceeYRvfvObJ9x93LhxPP/88zz11FM8++yz+MI398QblaATgO52k3QktGhNdnZ2VM2wvr4+qmbpdruprKzkrrvu4oYbbuA/mpv5p6efZteuXaxevZpp06ZhsVhwuVyMHz+eXSdZkcMddLOuYR1BM9i/hTsBa0vLcfMsZGdnR9UcGxoajqsFO4qKaJwzB6nrzJs3jz179hz33tnZ2ZSVlbF169ao7ZaODvQYzJDmMTx8WP/hSX/PX3S+W6dM4cj48VHne8eOHdx7771ffL6lxNbQAMGBP7eVHZXsaj31KjA5OTlR5a6tr2f/uedGbtRxu91UVFTwr//6r1x77bVs376de+65h507d0a9T3l5ORl2O9Wffdan5egrKkEPYprXS8b69ZQ++SRFL7wAwOjRo6mqqqK6uppAIMDf//73qEu81NRU/vrXv7Jq1SpWrVpFyTnn8OOf/pTRo0eTl5fHJ598AoDH42H79u3HdbIds7ZhLcu3L+efN/4za+rWYMr+b7e1trWR9dFHFLz1FqndJqEfNWoUR44coaamhkAgwHvvvXfcJX1jYyOmwwGERgAMGTIECCW1YzWo9vZ2tm3bRklJSdRrMzZvpvDNN3Fu2YLudvdXESN8ho+Xql7ilvW38IMdP6Cy88ST7n/R+ZYWCykuV9T5Hjt2LD/5yU++8HzrbjdZ//gHuW+9RdKhQwMyLWu1u5rvb/k+y9Yv48fbfnzK/ceMGcPhw4cj5V69ejXTLr008nxqaipvvvkmL7/8Mi+//DLnnHMOK1asYMyYMVRXVxMMf/nU1NTgqKjgvM8+w/nBB1jCd5vGi/hseFG+0LHljLLWrkX4fPizs7GH21stFgt333033/nOdzBNkyuvvJLy8nJ++9vfMmrUKC688MKTvu/ChQv56U9/ytKlS5FScuWVVzLsCyabsWt2mnxN/Hz3z3n24LPcNvQ2pmROQfTxpP+Wjg7Sdu8m5dAhTJsN49jUkl3ous6dd97Jvffei2maXH755ZSVlfHMM88wcuRIZs6cycsvv8y6devQdZ20tDTuueceAA4dOsSTTz6JEAIpJYsWLaK8vDzq/QUQSE0l9cAB0ioraRsxgo6hQzGTkvq0rEEzyOra1TxT+Qwew4NE4tAdJ//d9Mf57uxEahqmzYZr40aCO3fSNn48vvz8qBkQ+0Kdt45n9j/DO0ffwZAGutCRyFO+zmKx8J3vfIe77roL0zSZP38+Q4cOjQwhnDVr1klfu3nzZp599lksFgtCCO675RZsDgeyoYGkN9/EW1ZGx5gxGHHQHi9CC6DEnhAiPgKJgTVr1pzWfiIYJHXHDrLXrEH3ePBlZUWmlUyqqWFfOOEMhNVHV/PY3sdCf1BSEpABdKFTklzCbcNuY4JzwkkT9axZs1i9evUpj6G73aTt2UNqZSXSZsOfng6ahrW5mY5hw2gbM6avi3VSOWvXons8GA4HGAa2lhYQgraRI+ksLz+tiYjmzp170nNtSIM1dWv4beVvaQu0IaXEon1ef/rZuT9jRNqIvirOF9I7O8l5663ILH+ax4OtvR2/00n7uHH48vLOaOWdWbNmsX79+qhtTb4mnqt8jjeq38AwDSyaBU1oBM0gOUk5/O8F/9unZfoiyTt3krpjB4GsLDBNLC0taMEg7mHDcI8ahRGe/fBMTZ8+HSllr2orqgY9iBS++CKpe/bgKSo6btY5zeej/Je/jNrWPmYMDXPm9Pq4bYE2bl5/M92/zANmgGRLMkIIbMKGlJLKjkru+ewe7hh+BwuLF/b4mNa2NvLeeQchJd7s7Kiam5CS1IoKUrqsEiKFoHHGDAJ9UOtJqq7GtWVL1Dbd641MU4qu48/KQgSDuLZsIbWykqNz5iCt1h4f86FdD7G6djU2zYZVs4aq7GFtgTa+9em3ouMROn+56C89Pl5XWe++i+7xRG2ztLdHErTpcOB1OEKJ++9/p3XCBNrHj+/x8TqDnXxl7VfwGT7suh2bHv3ldsR9hMv+flnUtjtG3MHCIT3/PB2jt7XhWrMmah5wYZqfP9a00GRLpknyvn0k791L4+WXE4zRrIcqQQ8iTRdcgOb3Y6+tJZCeHvXNbtrt1F1xRdT+vj4aKpZmSeM/x/4nHYHPF+Pc0rqF9+reizyWUuKXfnRNZ2bWTGZkzTjBO52+YHIyLePGkb5rF/amJvwZGZGbS6QQePPzcXeZlU8K8XkC7SVfdjbN3da0c3ZbaFbz+7G2tBBIT6dl7Fhkl/HkPbGgeAHV3mr2d+zHb/qxCmvkCiTNmsb1xdeTn5Qf2T/fkX+ytzpjrZMmRSVozefDuWnT5ztIiaW9Hd3joWPYMDy9XMsxSU9i2fBl/K7id3gNLxKJLj7//WXYMrh9xO1Rr5mcNblXxzzGSE2lbfJk6FLZSKqqCrW1HxMMYm1uRlosdIwbh9FtQYCBpBL0IOIZMoTDt9xCckUF2f/4B0nV1QQyMiJtsp3Dh/fLcYUQTM+aHrVNInmv7r1QYjZDiXmSaxJfH/p1ylLKen1MabHQMXw47iFDSKmsJH3PHpAysjJKMDkZb15er49zwmPbbMe9d9q+fegeDyIQwNbcjJmURNN55+EpKel1cgYYmTaShyY+xOaWzaysWEmVuwrDNCKJelrWtH5r4gg6nVHTlOqdnZEmDL2jA0tnJ778fJpnziTQBzVJXegsHLKQKwqv4OWql/m/yv8jYAbQROgqKcWSwmWFl53iXXpI0/DnR3+5RToGDQNrczNISefYsbiHDUP2cR/DmVIJerDRNNzDh3OovJyUvXsjiToWq3H7TB92zc45znNYNmwZI9NG9vkxTJuN9lGj6CwtJbWigvS9ewdkFMWJWFtaMBwOWs49l86Skl41aZyIEIKJrok8PulxNjZtZGXFSuq8dRjmwC9uK4JB7HV1+LOzaZgyhUA/3LjjsDi4sexGrim+hlUHV/HiwRfxy9jc2Wdpb0eYJh0jR+IZOTIy2ifWVIIerHSdztGjcQ8fTurOnTjC46AHSllKGee7zufG0hsZ7+x5e+TpMpOSaBs7ls7yclL37cM3wG2Cnrw8PLm5dJaWRq331x+EEEzNmsrkzMmsrV/L60dfJ8t+4omA+oNpteIeOhRPSQn+nJx+//JPsaTwT8P+ietKruP3B34/IEM2uwpmZNA+YQKdo0Zhxtmt7moURxw43VEc/eH7277PvIJ5TM2aOmDHPN1RHH2twdfAA7se4JHxj0SNkBgoXzSKoz84KioQpom7n5q+TteJRnH0OSlxrl1L+/nnx03tty9GcagbVc5yG5s28lHTR7EOY0DU+euo8dbgM+Pztt6+lrJ/Pyn798c6jIFhmlibm9G6jUYZ7FSCVpREFYN+CaVvqQStKIoSp1SCVhRFiVMqQSuKosQplaAVRVHilErQiqIocUolaEVRlDilErSiKEqcUrd6n2VaA63ctvE2PEZoQL/f9PNa9Wu8dfQtAC7IvoDvjvluLEPsU68dfY2nDz4NhCZ4CpgBbt10KwCa0Fg+Zjlj08bGMsQ+lfnBB9jCS39p4RWr8196CYBAVhaNXzCR/WCjt7bi+sc/EOHVUXSPB9d770Webzv/fHy9nHkv1lSCPsuk6ClYNSudwU4swkKy/vnqJEEZpDRlcH+guytxlISmsyQ045xDC90GbGJiSIM8e//MiBcrwZQU7DU1+DMzo7bbmpsJnmAlmsHMTEpC8/sJpqcjdZ1gRkZkGlFbXR1mH00/G0uqieMsY9EsLC1biiY0hBCRfyYmVs3K1YVXxzrEPjU+fTzFjmICMhBVXkMaXJx9MVm2gZuEaCB0Dh+OkDJ0F6Guh/4JgTAMOkeNinV4fUra7XScc05oulBdDy3qoOvobjf+/PzQCimDnErQZ6FLcy8lWU+OWilaIrm26FpSLPE1m1dvCSG4peQWLJolsiKMlKEJ4hcVLYpxdH3PSEvDPXQo1i6Ln1pbW3GXlRGM4cTz/cVbXh5KzF1WINc7O+k455wYRtV3VII+C1k0CzeV3hRZscOUJhpar5aoimeTMiaRbcsmKEN/xAECTMucFrVCSSLpGDkSLRAILeMkJZrfT0eC1Z6PMZOS6Bw1KvKFpHd0EMjOJpCTE9vA+ohK0Gepy/Mvx6bZMKSBIQ2uKryKdGvsVzHuD5rQ+ErJV9C10AK3Ojo3Ft8Y67D6TTA9Hc+QIVjb2rC0teEtKQm1zyYoz7BhoWYdw0Dv6KBj3LiEmShKJeizlF23s3jIYgxpoAmN60uuj3VI/Wp65nScFidu081E50SKHcWnftEg1jFmDLrPh+710j56dKzD6VdmcjLuESMiS8D5c3NjHVKfUQn6LHZVwVXYNBtfyvsSmbbMU79gENOFzk0lN2ERFm4quSnW4fS7QEYGnsJCvPn5BDIT+9wCuEeMwHA46Bw/PmoF+MFODbM7iyVbkvmf8/8nYZs2upuVNYthKcMoTU6soYQn0zx14FbJiTUjJYXGefMw4mQ1lb6iEvRZrsBREOsQBoxFs5w1yRlCw9DOJkacrSfYFxLnWkBRFCXBqAStKIoSp1SCVhRFiVPi2N1VsaZpmoyXWAaSzWbDH57U5mxxNpZZOTtJKXs1IDtuOgmllKxZsybWYQy4WbNmsXr16liHMaDmzp3Lq6++GuswBtz8+fNjHYIyyKgmDkVRlDilErSiKEqcUglaURQlTqkErSiKEqdUglYURYlTPUrQQogrhBC7hRD7hBD/7wTPDxFCvCuE+FQIsUUIcWXvQ1UURTm7nHGCFkLowOPAPGAscKMQovuqm98DVkkpzwOWAP/T20AVRVHONj2pQU8F9kkpK6SUfuAPwIJu+0jg2BRpTqC65yEqiqKcnXpyo0oRcLjL4ypgWrd9lgNvCSG+AaQAX+pRdIqiKGex/uokvBF4RkpZDFwJ/K8Q4rhjCSFuE0J8LIT4uJ/iUBRFGbR6kqCPACVdHheHt3X1NWAVgJRyHZAEZHd/IynlSinlZCnl5B7E0S9Sd+yg8MUX4WyYF0RKiv/8Z9J27Yp1JAPC2tZG/vvvhxZUVZRBoCcJeiMwQghRLoSwEeoEfKXbPoeAOQBCiDGEEnR9bwIdEMEgWe+/T+qePTgOHz71/oNcclUV6fv2kfvBBwjDiHU4/c65bx+pR46QchacWyUxnHGCllIGgTuBN4GdhEZrbBdC/EAIcU14t38HlgkhNgPPA18dDFPVpezfj7W1FX9GBpkffBDrcPpdzrp1BNLTsba3k7p/f6zD6VeWjg5SDh+mMz+fjN27EaoWrQwCPZrNTkr5OvB6t233d/l5B3BB70IbYKZJ1vvvE3A6MZKTcVRVkXTkCN6iolhH1i8c1dU4qqrw5udjWizkfPgh7cOHJ9SCm12lV1QgrVZMmw2trY2UI0foKCuLdViK8oUS86+xB5IrK7E1NYXWNRMCw+Egc926WIfVb7I2bMBISgqVNSUFW1MTqQcOxDqsfmFxu0k7cABfemjkpz89Hdfu3WdFs44yuKkEDSAlWe+/TzAtLbIpkJFBcmUl9traGAbWP+x1daQeOEAgIyOyLZiWRvbatQnZOZpWUYHU9cjVgWmzoft8OGpqYhyZonwxlaABx8GD2OvqohI0QmDYbLjWr49dYP0ka8MGTJsNxOeLPQRTU0mqryf50KEYRtb3dK+X9MpKfE5n1HZfWhqZu3aBqkUrcSxuVlSJpbQdOxCGgb22FmEYWNraCLhcICUp+/ejeTyYDkesw+wTmsdDWmUlSIm9vh5bUxMBpxOp6wjDwLlrF+7S0liH2WeSamvRAgGSmpsBsLa3Ewh/EQvDwN7Whs/limWIinJSKkEDjbNn03L++QA4t2whdc8ejlx/PQBS1xMmOQOYDgeVN98caX8teekl2keMoGXcOACCKSmxDK/PuYuKqAo35VjdbjK3baN+8mTMcHNHID39C16tKLGlEjRgpKSEOgch0szhz8uLZUj9yp+VFfU4mJKCLzc3RtH0L2mxEOjWvOFPS0Na1EdfiX+qDVpRFCVOqQStKIoSp1SCVhRFiVMqQSuKosQplaAVRVHiVEJ3ZW/YsIFHH30U0zS56qqr+MpXvnLC/d577z3uv/9+Vq5cyQzANE1+9KMfsWfPHgzD4Iorrjjpa+PRxo0b+Z//+R9M02TevHksWbIk6vk333yTX//612RlZfH/GhshGKR82jRqa2tZvnw5pmliGAYLFizg6quvjlEpztymTZtYuXIlpmly2WWXsWjRoqjn16xZQ9Pvfsfbf/kLQSGYP38+l19+OQBPP/00GzduBGDJkiXMmjVrwONXlO4SNkEbhsHDDz/MQw89RE5ODrfddhsXXnghZd0myHG73fzxj39k7NjPl1U8fPgwgeRkfve73+H1elm6dClz5syhoKBggEtx5gzD4LHHHuPBBx8kOzubO++8kxkzZlDa7eaT2bNn841vfIPhTz5J88SJNAKZmZk88sgj2Gw2PB4Py5YtY8aMGWRnHzeVd9wxDINf/epX/PCHPyQrK4tvfetbTJs2jSFDhkTtN3LECOb/939HDbPbuHEj+/fv57HHHiMQCHDvvfcyefJkkpOTB7oYihIlYZs4du7cSVFREYWFhVitVubMmcMHJ5hC9De/+Q0333wzNpsNCN3yHLRY8Hq9BINBfD4fFouFlEFyA8fu3bspLCykoKAAq9XKxRdfzIcffnjS/aXVSjA1FQCr1Rr5PQQCAUzTHJCY+8KePXsoKCggPz8fq9XKrFmzWN/tNn1D0whqGrLLLe4Ahw4d4pxzzkHXdZKSkigrK2PTpk0DGb6inFBCJmgRCGD57DOGZGZGtuXk5FBfH71mwO7du6mrq2PGjBmRbe3nnAPf+x5JSUksXLiQRYsWsWTJEtJP446zt2re4kDngT4rx+mytrSQuncvAA0NDeTk5ESey87OpqGh4bjXfPDBB9x2220sO3SIvV1qyHV1ddx2223cdNNNLF68+KS152Z/M28cfQOP4enj0pyClCTV1mLp6Ija3NjYeFy5Gxsbo/bx2u387OBB7rzrLn784x9HPg/l5eV88skneL1eWltb2bJly3GfFXtTE/bw7eKKMlASq4kjGCR1926y//EPnNu3s6XbHWRdmabJ448/zr333hv9hBBs378fTdN46aWXaG9v584772Ty5MkUFhZ+4eEf3vMwFs3C9Kzp/FP5P1Ho+OL9e8vS1kbWxx/j2rIFgF13331ar5sxYwaXXHIJNpuNV199lRU//zkrVqwAIDc3l5UrV9LQ0MDy5cuZNWsWrhPMVfFp66f8qvJX/O/h/2VJ8RKuyLsCm2brs7IdR0rsjY1k7txJck0NjePH0zJmzBm9xdSpU5k9ezZWq5U33niDhx9+mB//+MdMmjSJvXv3cs899+B0Ohk9ejS6rke91rVjB8nV1XSUltI8evRxdycqSn9IjBq0YZCyezelTz1F/uuvY1qtCKeTpi41nvr6+qgaltvtprKykrvuuosbbriBHTt2cO+997Jr1y5Wr17NtGnTsFgsuFwuxo8fz67TWLdPItHRWVu/ln/5+F/4xa5fUO/r+5W+9M5Oct5/n2FPP03G1q14s7Mj04RmZ2dH1f4aGhqOqwWnp6dHmjLmzZvHnj17jjtGdnY2ZWVlbN269aRx2DU7ftPPs4ee5WuffI03a98kaAb7oojRx2luJm/dOgrWrkXzePCHm2S6ysrKOq7cWd1uaU9PT8dqtQJw2WWXsW/fvshzixcv5rHHHuOHP/whwAm/jH0ZGSTV11P897+TvWnTcbV4RelrgztBS0ny/v0M+d3vKPjLX0BKvAUFmA4HrowMmo4e5ejBgwQ7O3n/7be5cNq0yEtTU1P561//yqpVq1i1ahVjx47lJz/5CaNHjyYvL49PPvkEAI/Hw/bt24/rZAuaQTqDnVH/jrHrdjQ03ql7h6999DUe3/s4zf7eXx5rHg9ZGzYw/KmnyPzkE/yZmaE5NMK1PeH3M7q8nPqqKmoPHSLg8/Hee+9FNeEAUZf+69ati3Sk1dfX4/P5AGhvb2fbtm2UlITWB/Ya3qiy+szQfrrQ0YWO23DzmwO/Ydmny/hH/T8wZO+n8bS1tpLz0UcUrFmDtb0dT05OpL0cKRHBYOTfqGHDqK6u5ujRowQCAdasWcO0LucboKmpKfLzhg0bImUzDIO2tjYAKisrqayo4PwJE6LeX0gJQuDPyMCTk0NydTXFq1eT9dlnWNzuXpdVUU5kUDdxpG3ZQuHLL+PPzMTbrcZj8Xr5/tixfHrHHTRKycPl5Yx55x3++513GHrOOVx44YUnfd+FCxfy05/+lKVLlyKl5Morr2TYsGFR+/xg+w/4pPmTqG1dk5ImNGzChilNXj7yMh81fcTvpv2uV+Ud8vLLpO3bR0dpKTJcEzxG9/kY9tRTALwwbBib77qL9brOrIULKSsr45lnnmHkyJHMnDmTl19+mXXr1qHrOmlpadxzzz1AqLPsySefRAiBlJJFixZRXl5OW6CNf/7knzGJ7jQMmAGS9dBIB4sIfZRaAi2s2LeCen891xdd3+Oy2lpbKXzvPSTgyc6OmrtaSEnawYOkVlVFtkkh+PbSpdx///2YpsncuXMpLS3lueeeY8SIEUybNo1XXnmFjz76CE3TSEtL4+5wk5BhGHz3u98FIDk5mf9eupTSd96J/v16vZFpShECv8sFpknGrl2kVFVRdfnlmN3OiaL0loiXtVyFEHLNmjVn9BrN6yX900/JXL8eYZr4s7Iiw6eSjh6l/pJL8BYXR/Y3LRYC3S57e6rJ38QRz5Gobfd8dg9JWlIkwQVkAF3oDE0dym1Db2Osc+xx7zNr1ixWr159Wse019WRs24dqfv3YzgcoXbQcOJKOnqUyptvjto/mJaG0UdTpVZ0VkR1CH7a+il/qf4LmgivUiJNDAw0NK7Iu4Ibim4g3XrijtW5c+fy6quvfvEBDYPkmhoyd+zA4vXiS08PLTIA2Fpa6Cwupr3bVU0gPT0qkfeUMAys3Zovsj/7DOH3R36fuseDLTyXdNO4cXhzck557Pnz5/c6NmVwkVL26gM5qGvQZlISLTNm0H7uuTg3bcK1cSNIiS/c5hpMT8fXT9OGZtoyybRlnvA5v+lHFzolySX8y7B/YWLGREQfJA5fbi5VCxbgqKkh54MPSD58GCMlJTKncX9OGTo0ZWjU41pfaCmwrl9Ec3LmsKR4CVm2PvgS1HXcxcV4CgpIrqoic+dOtLY2/OHOOdNq7beOOqnrkeMcY+o6OqGatK21Fb/TydGZM/Hk5/fJl4KinMigTtDHGMnJNF10Ea0TJ+L6+GMyNm1C7+w89Qv7gYlJXlIey4YuY3rW9D5JzN15Cgo4tGgRyVVV5KxZE1pbLwZJwmf6sGk2Lsq6iJtLbiYvqe+/DKWu01lairuoiNTDh8nYtQtbe3ufH+d0JDU14XM6qZ0+HXdBQcKugK7Ej4RI0McYaWk0XHIJLeedh/Ozz/B3GbUxEK4suJJzM87lwpwL0YV+6hf0kru4mIM33kjKwYM4qqv7/XhdjUgZwZycOXy56MsUO4pP/YJekhYL7eXldBYXk3rwIL4uC94OhPaSEtqHDMFdVBRagFZRBkBCVgGCGRk0Xnxx1KrVp+u9uve44+M7enTcb478JrNzZw9Ico4Qgs6yMhpmzuzRy+/achf/aPjHGb+uJLmEu4bfNSDJuSvTaqVt+PBIM9aZqPXVcvNnNxMwA2f82s7SUjqHDFHJWRlQCZmge2NH2w4Ouw/HOowBc9hzmJ3tO2MdxoBoDjRjSpOAPPMErSixoBK0oihKnFIJWlEUJU6pBK0oihKnVIJWFEWJUypBK4qixCmVoBVFUeKUStCKoihxKqHuJOypoBmMjI09dhPDsYmBNDTsuj1msfUHn+GLmpkuKIOR8lqFFYuWOB8LQxqRc+o3/UDoFnUtXDexa/Z+uR1fUfpC4vwl9sKPdvyI9Y3r0YRGUAYxpcn1a0NTZWpC43+n/S8ZtozYBtlHWgItfP2Tr2NIAyEEftPPW7Vv8U79O5jSZKprKveNui/WYfaZ1+te53+P/G9k1j2/6eeObaE7RU1M7h9+P+PSxsUyREU5KZWggYkZE9nUvAld6Nj4fNmmgBkg15570mkzB6N0SzrZ9mzqvHVYhRWr/vkcxoYwmOCcEMPo+t6Y1DFYNAs6OkKIyLJcpgxdQQxxDPmilytKTKk2aOCKgtB6el0n3JdSogmNr5Z9NVL7SgSa0Lil5BZ0TafrXOCGNLAJG3Nz5sYwur43PGU4w5KH4Zf+qO2GNPhS9pdItyTOl6+SeBIn8/SCXbezuGQxks8TVlAGybBmMDOnZ5MQxbPpmdNJt6QTlNHrB15feH3CtbcDLClYgkVYIl9IpjTRhMaCvAUxjkxRvphK0GFXFV6FRVgitWhNaNxSdsvAzkw3QHShc3PJzehaqGyGNNCFzhV5V8Q4sv4xNnUsxUnFkY7goAwyK3MWLuvxq5UrSjxRCTos2ZLMl4u/jClNgmaQFEsKl+ReEuuw+s2srFkk68kEZRCJ5NqCa0m2JMc6rH4hhGBJwRJ0oUdqzwvzFsY6LEU5JZWgu1hQtACLZsHE5ObSmxNquFl3Fs3CkqIlmNJEFzrzCxJ7vbyJ6RPJseXgNtxMz5hOrr3/lgdTlL6iEnQXadY0riq4ilRLKnPzEquz7ETm5M4h1ZLKvLx5pFnSYh1OvzpWi7ZpNq7P7/lq44oykBK3ithDXy3/KjeW3piQnWXd2TQbT0x8IjL0LNFNzZjKk+OexGntn8VmFaWvqQTdjVWzYtWsp94xQaRYUmIdwoDRhKaSszKoqCYORVGUOKUStKIoSpxSCVpRFCVOqQStKIoSp1SCVhRFiVOi64Q5saRpmoyXWAaSzWbD7/efescEYrVaCQQCsQ5jwKlyn12EEJim2avJxuNmmJ2UktWrV8c6jAE3d+5cXn311ViHMaDmz5/Piy++GOswBtyiRYt49tlnYx3GgFu6dOlZe757SzVxKIqixCmVoBVFUeKUStCKoihx6owTtBDiCiHEbiHEPiHE/zvJPjcIIXYIIbYLIX7f+zAVRVHOPmfUSSiE0IHHgblAFbBRCPGKlHJHl31GAPcCF0gpm4UQal5HRVGUHjjTGvRUYJ+UskJK6Qf+AHRfN2gZ8LiUshlASlnX+zAVRVHOPmeaoIuAw10eV4W3dTUSGCmEWCuEWC+ESMx1lBRFUfpZf4yDtgAjgIuBYmCNEGK8lLKl+45CiNuA2/ohBkVRlEHvTGvQR4CSLo+Lw9u6qgJekVIGpJSVwB5CCfs4UsqVUsrJUsrJZxhHv8nYupWy3/8eTDPWofQ/02T488+TuXVrrCMZEClHjzL+2WexdHbGOpQBkb9tG4VbtsQ6jAGh+XyUvfMOSU1NsQ6lT51pgt4IjBBClAshbMAS4JVu+7xMqPaMECKbUJNHRe/CHBgiECB7/XocNTWkHDwY63D6XdqhQ6TU1JC7YQPiLLgVN3/TJpLr68nesePUOw9yVrcb16FDOKuqsJ0FX0jpVVUkNTWRuXdvrEPpU2eUoKWUQeBO4E1gJ7BKSrldCPEDIcQ14d3eBBqFEDuAd4F7pJSNfRl0f0nbuxfd7cbvcpG9fj0k8twgUpK7bh3ejAwsHg/OBPtgd5dcX4/z8GHai4vJ37wZ3eOJdUj9ynXgAKauY+o6mQcOxDqcfqUFAmTu20dnXh7JdXXYW1piHVKfOeNx0FLK16WUI6WUw6SUPwpvu19K+Ur4Zyml/LaUcqyUcryU8g99HXR/EIZB9oYNBDIyCKamklRXR3JVVazD6jepVVU4GhoIpqbidzrJ27ABYRixDqvf5H36KabVimm1hs71rl2xDqnfWLxesg4exJeWhjc9HdehQ1gT+Asp7cgRtGAQ02rFsNtx7dsX65D6jLqTMCx13z6s7e0YDgcARkpKqBadoHI3bCB4rKxJSVg7Okjbvz/GUfWPpKYmXBUVeJ2h9Qh9GRkUfPopms8X48j6R8ahQ0ghkLoOmoYUAleCNtmJYJDMPXvwpacD4E9LI7WmBltbW4wj6xsqQQMYBtnr1xMIn2SAQHo6jpoaHNXVMQysfyRXV5NcUxNd3rQ08jdsgASsRed99hlmOFkBoVp0IEDWnj0xjqzv6T4f2RUVeLucW296OpmVlVgS8Asptboa3e/HtIYXehYC02Yjo2JQdHudkkrQQMrBg9haWjCSk6O2G0lJZG3YEKOo+k/uRx9hJCVFbQsmJ2NraSEtwWpa9tZWsvbswetyRW33OZ0UbNqElmCdoxlVVWCaodpzmNR1BKGadSIRhkFWl9rzMb70dNKrqrB2dMQosr4TN/NBx1JaRQVCSux1dWjBILrbTSA9HSEljqNH0TwezHBzwGCne70kHz2KMAySGhqwtbURTE7GtFgQUuKsqKB96NBYh9lnUo8cQTMMHOHhV7b2dvxpaUDoD9zR0EBnQUEsQ+xTaUePoklJclMTFq8XgGBSEsI0STt6lIYRJxzxOijZOjqw+Hzo4SsDq9tNIFzJEqaJo7GRQGpqLEPsNZWggdpZs2iYNg0A15YtOHfu5MDixQBITUuY5Ayhq4I9t9yCCI/zHrZqFS2jRtF47rmh5+32WIbX55pGjaKtJDR039HcTNm777L7mmswLaGP/mD/A+7u0JQpaOFzW/LxxwgpOTRlCgCmllgXzD6nk8pLLwVASEnxhx9Sd+65+MLn1LDZYhlen1AJGpA2G8HwyTx2UoPhWlYiCqakRD027HYCCVpeqeuRsh2rUQZSUz9vs0wwps1G5BYrIUBKgt2asxLJsU79Y30nhs32+bYEkFhfqYqiKAlEJWhFUZQ4pRK0oihKnFIJWlEUJU6pBK0oihKnVIJWFEWJUypBK4qixCk1DrqbQEYGwW63fCeyoMOBPyMj1mEMCMNux7BakQl2w8bJdGZmJvQMhVGECM1mZ0mslJZYpQnTPR7Sd+xgTWcnDz39NKZpMm/ePJYsWRK135tvvsmvf/1rsrKyAFiwYAFXXnkl+1JTWX7HHZimiWEYLFiwgKuvvvqUx11VtYqx6WMZlz6uX8p1Mo7aWpLq6mgePx6ATZs2sXLlSkzT5LLLLmPRokVR+7/99ts89dRTZGVlIaTkqqwsLg/fAvz000+zceNGAJYsWcKsWbNOeMw6Xx3vNL7D5TmX47K6TrhPfxDBIK59+/C4XHjy8qKe+/TTT3k6fL7nzJnDwoULo573p6fzm9JSXvj3f0cIQWlpKXfffTcA9fX1PPHEEzQ2hqYuv++++8jN/XxB+g9aPkAgmO6cji50BorF4yG1vp7WwkLkSZLPli1beO655zBNk9mzZ0c+q3WjRwPwf//3f+zcuRMAn89He3s7TzzxBA0NDTzyyCNIKTEMg7lz53LppZciDAPnkSN05uQQGMCbPgxp8FHbR/iln9kZs0+5/3Hne8GCyIRYx3z44YesWrXqC893hmHwn1//OrZx46LmMIkHCZWgNZ+PjM2byVm3DktbG2/s2MGPH3qI7Oxs7rzzTmbMmEFpaWnUa2bPns03vvGNqG2Z2dk88sgj2Gw2PB4Py5YtY8aMGWRnZ3/h8f+v6v+wCivDU4fzz6X/zMjUkX1exq7sDQ3kbdhAenjmrubx4zEMg1/96lf88Ic/JCsri29961tMmzaNIUOGRL32oosu4o477ojatnHjRvbv389jjz1GIBDg3nvvZfLkySSf4IpiR8cO/nj0j/y17q9ckXMFC/MWkmrpx9umDQPX/v0UbdhASn09VTNncqRLgjYMg9/+9rf813/9F5mZmZHYS0o+X6GtpqaGP7/8Mj/84Q9JTU2ltbU18twvf/lLrrvuOs4991w8Hg9atz/015peo9pXzZ8b/syS3CWcn3Y+mui/mrjF58N18CCZBw+iBQK4s7LwnyBBm6bJs88+y3/8x3+QmZnJAw88wKRJkygqKgrdSQjcfPPNkf3feustDoYnxMrIyOD+++/HarXi9Xq57777OO+888i12ynYtg3TYqGptJTm0tJ+vRtRSskn7Z/wh/o/UOevI9eae8oEfbrn+6WXXjrl+U7eto2ibdsI1NfTMGYMHfn5ECeJOiEStPD7ydi+nZy1a9F9PnyZmbQ0NpKTk0NBeCKciy++mA8//PC4BH0i1i63AQcCAcwzWJ9QQ2NX+y7u234fY9PH8k9D/onylPIzL9QXsDU3k7txIxm7d2NarXhyc3HU1QGwZ88eCgoKyM/PB2DWrFmsX7/+uAR9IocOHeKcc85B13V0XaesrIxNmzZx0UUXnXB/u2ZHIHi97nXeqn+La/Ku4arcq0jW+7CJyDRxHjxI8bp12Ftb8aWn4wvP69zVvn37yM/PJy+ctC+44AI+/vjjqD/Yt99+myuuuILU8FwNzvD7HD58GMMwODc8H4njJLVGXeg0BZp4ovoJcqw53Jh3IxNSJiDCibAv6H4/GYcOkVVZCYDH6SSpS2Lpbv/+/eTm5kZq+9OnT+eTTz4JJegTWL9+Pddddx0Ali4Jv/vn3LRa8TidZBw+jOvQIRrLy2kpKenTuVqklGzr3Mbzdc9T66/FlCYWcXopqS/Pt91ux8jIwLRayf/kE/ypqTSOGUNnbu5xNfKBNqgTtAgGSd+5k9z330f3eAi4XATC00p6vV4K0tKwhifuHpKSwq4TrLTwwQcfsHXrVoqLi7n99tsjH/S6ujq+973vUV1dzbJly46rPbuDbpoDzSeMy67ZkVKytXUr92y7h0kZk1g6ZCnFjuJeldfa1kbOpk1kbt+OabHgycmJ+gBZ29rwVFUx1OnE2taG4XCQnZ3N7t27j3uvDz/8kO3bt1NYWMiyZcvIycmhvLyc559/noULF+Lz+diyZUvkA9/gb8Bv+iOvbwm0AKAJDU1oGNLgpaMv8Wrdq3w5/8tcln0ZSXoval1Skn74MEXr1+NoasKfmoo7/Mdo9XrR/H5s7e2R3T1HjkSaqgAyMzPZ220Zr5qaGgC+973vYZomixYt4rzzzqOmpoaUlBRWrFhBXV0d54w/h7mL5kbVooMyGDq2ZkVKSa2/lkerHqXIXsSNuTcyJmVMz8tKaNkm55Ej5OzbhzBNPE5n1OW27vNh6RKPabFgWq00NzcfV+79J1l4oaGhgfr6esaOHRvZ1tjYyC9/8Quaa2u5/vrryUlKiswbLTUNb0ZGaFrPykoyDxygcdgwWoqKMHs5EdFu926er32ew77DGNLAKqzomo4hDYIEqfHVRO2fbc3Gqn1ecWpqaurx+W48eJCcpCQe/+lPqa+v58riYhaPGoVht+PJycHi8VCwcSM+p5PGMWNwZ2dHrkYG2qBO0M7t2yn5y1/wZWXhC9cYj0ny+bigsZHy554DQDt4kPFtbWheL2b4cm3GjBlccskl2Gw2Xn31VVasWMGKFSsAyM3NZeXKlTQ0NLB8+XJmzZqFq8ucwiv2rmBz2+aoYxrSgPB5FEJgEzZMabK2cS37Ovfx1KSnelXeIa+/jrOykrbS0uPaI3Wfj+GrVuE4coQxdXUMX7WK1vLyE36wpk6dyuzZs7Farbzxxhs8/PDD/PjHP2bSpEns3buXe+65B6fTyejRo9F1nfZgO9/c8U1ktzUaAzIQqS3rQgcBPtPHM1XP4Df9XF9wfY/LmlJXx8i//hVT13F3aQuG0FSSmXv34uoyKXva0aPsP0XSMAyDmpoali9fTmNjIw888AC/+MUvMAyDnTt3smLFCrKzs/nuH7/L2/vejrqSOpZEIHRurSKUqPd79vPgoQd5ZMQjOC3H1+xPV/b+/eTt2kVHTg7BbrVUe0cHhd1WXjdsNg7MmHFGx1i/fj1TpkyJ+uLJysri6auvxtvczNurV5MrBA6HA1tnJ+7w513qOh6XC93no/Czz7B6PNR2SfJnqtPo5CcHfxL6/GjJ6Fp0c0JjoJH7Ku+L2vbl7C8zP3v+GR3nROf7l9//PuN27qRpxw6uv/56UidN4t3Vq9knBEOmTwdCHedBhwNHYyPF69Zx6KKLjptPfKAM6gTdes45SE0j9/33STp6FL/LhXnsw+108lowSOZXvgLAn/70J0xN49oubWnpXSb6njdvHr/+9a+PO0Z2djZlZWVs3bo1qsPsnhH3HFeD/tfN/xr5WUpJQAbQhc6FWRdyy5Bbel3eQ1deGalBS10PfWjCf2yG3c6+G25gz549/OlPf+LeG27AcDhoeOmlqJpG93JfdtllPP3005HHixcvZnF4qtUVK1ZQWFhImiWNR8c+GlWD/qjlI148+mLksSENpJTYNTs3Fd7E5TmX96qsnbm57LnmGorWrSO5thZ/WlpkdI3UNJpGjKD2vPMi++/dt4+dr70Wedy9hgWhZDRixAgsFgt5eXkUFBRQU1NDVlYWZWVlkcvlK/OvZOvmrdyw6IbIax+qeojGQKgDUUpJUAbRhMYwxzBuyrupV8kZoGHYMAJJSeTs24fN7caTnh6pQftSU6kePz6qw+7YdKkulyvSsXms3K6TJJP169dz6623Hrf90OTJaMEgnx08iJGayvRx4xgS7iiG0LzZSW1tSCGonjiRlpM0n5yuFD2F+0rv4/e1vw/VoM3Ql9+xpqIsaxb/UfIfUa/JtkZfwWZmZh5X7tM53wfa29GnT+ejAwe4bN482gBbYyP1O3ZwrBHQ4vFg7ejA53TSMGYM3hiOchrU442kxULr+PHs+/rXOXrppehuN0lHj4bapDMyONjYyKHOTtwOB6+tX8/E2dEdD11P8Lp16yLttPX19fjCl3nt7e1s27Ytqm0LINmSTJGjKOrfMT7Th4nJBOcEVoxbwb2j7u118waEluGqvuQS9tx8M63DhuGor8fe1BRZfTyQns6Q885jZ10dh91ufMCaNWuYFp7r+pim8OT1ABs2bIiUzTAM2sJNQpWVlVRWVjJp0iQAsm3ZFCYVRv5lWDMAMKVJwAygCY2F+Qv51bhfcU3eNdi1XrZVCkFbSQk7r7+e/VdcgdQ0kmtrI6txmzYb/rS0yL/iCROoqamhtraWQCDA2rVrmTx5ctRbTpkyhe3btwPQ1tZGTU0NeXl5DBs2DLfbHelE2rltJ6OyR1FgL4j8O9Y2GjADmJjk2fK4q/guvl/2fUYnj+5dWQm1+TaXlbF/1iwahg4lqa0NR3NzZN5uw26P1OyCDkdkutShQ4dSW1tLfX09wWCQ9evXc16XL65jqqurcbvdDB8+PLKtqakJf3i5qFbTZHNFBZmlpZGpd4Vp4mhuJqmtjcbyciouuoim8vJeN28AjEweyQNlD/Ctkm9RaC/EJPQ5ArBgifrdF9gLopo3AIYPH97j8z1k7FgafD4a/X6CDge7DxwgIyMD3efDUV+PBKqnTuXwhReGmhFj1LwBg7wGfYy02Wg+7zxax44NjeLYsAFrZyeLFy/m3nvvxTRNLr/8csrKynjmmWcYOXIkM2fO5OWXX2bdunXouk5aWhr33HMPEOose/LJJxFCIKVk0aJFlJefXkeficmYtDH8U+k/9dsoDr/LRdVll1E/aRJ5H31Eepc2R13Xuf3227n//vsxTZO5c+dSWlrKc889x4gRI5g2bRqvvPIKH330EZqmkZaWFhl6ZBgG3/3udwFITk7mO9/5DvoX9Gb7TB9JWhJX5l7Zf6M4NI3W8nJahwzBVVFB0YYN2E/QaabrOl/72tf40Y9+hGmaXHLJJZSUlPCHP/yBYcOGMWXKFCZOnMjmzZu5++670TSNW265hbTwXNG33HILP/jBD5BSMnToUObMmXPcMQxpkG3N5sbcG5mUNqlfRnEYNhuNw4bRWlxMxsGDZIVHcZyMrussXbqUn/3sZ0gpmTVrFsXFxfzpT3+ivLw88gW7fv16pk2bFtWhWV1dzfPPPx95fOWVV4a+rN1utEAAR0sLTWVlNA8Z0i+jOIQQjEsZx4/Kf8Sn7Z/yfP3z1PnrTuu1fXm+r8zOZkJxMf5AgJrzz6czLy9uRnGI7u2KsSKEkKtXr+6T99I9HtJ37qR9xIgeTbwfNINYtDP/7urJOOi5c+fy6quvnvGxunLU1ZFUWxsZB30melrWOl8d7za+y2U5l53xOOj58+fz4osvnnrHE/iicdCnIyiDpz1SoKsPWj5AExrT0qf1eBz0okWLePbZZ8/oNaczDvpkTBmqfZ/pF0lfj4NeunTpaZ1vQxpsbNuIT/pOaxz0cUyzR6MubG1t2Fpb6Sws7NNx0IsWLUJK2avq96Bu4jgZw+GgedKkHiXnv9X+jaWblvbouDcU3zDgN6kAeHJze5ScAZZtW8ZbDW+d8ety7bksLlw8oDepQKhZq2n06B4l52pfNf+y+1+i2tJP14UZFzLTOXNAb1KBUIdVy5AhZ5ycAX5d/2ser3v8jF8ndZ2WIUMG9CYVCHU0T3dO73FyHvL++1g6O8/4pf70dDpKSuLuJhVIkCaOvnTIfQiv6Y11GAPGa3g55Ems1Z5PpsPowMQkKIPYGPzr1Z3KDs+OyPDAhCclWiCAHgySSCVOyBq0oihKIlAJWlEUJU6pBK0oihKnVIJWFEWJUypBK4qixCmVoBVFUeKUStCKoihxSo2DBjqDnbQFQ3NQHPu/xhuaqtAiLOTYc2IWW39o8DdEjY9tD7Zz1HcUgHRLet/O5xxjATNAUzA090hzMDS5VX2gniQjdOtyjjWnXyfeH2htRhs+MzSPjCFDy13VB+qB0DS46Xr6SV87GB2bm0WE74jW/f7INsNmi5tbtntKJWjgF/t+waetn2IVVgIygM/wcdeWu5CEZi176ryncNliM91gX2sJtHDn9jsjtzt7TS8bWjawqXUTQRlkQvoE7ht23yneZfB4s+lNXqx/EZsI3ZjiM3388MAPAfBLP/9e8u9MSJ0QyxD7jJSSH1f/mDajDV3oeGQoUf2g+geY0iRZS+ZnJT/r0wUGYsne2krJBx9wbLIKq9tNwUcfAaAZBrXnnkvbaSzQEc8Sp+rQCxdkXoBFWBCE5nBOs6QhEATNIKWO0sjMbYnAaXEyxDEkMl1mmiUNm2ZDExq60JmRcWZzDMe7iWkTI19GQghS9VSEEJiY2DU7wx3DT/EOg4cQggmOCUgkAkGKlkKKloIgVN4JyX27+kus+VNTCdrt+NPS8GZl0V5SgjcrC29mJlLT8HSbfnQwUgkamJ09G4fuiLrsl1Ji0SzcMuSWhPpQCyG4seBGdKFHTcAflEEcuoOLXCde3mqwKrYXMzp5NH4ZPf+GRHJ55uUJ1ZwDMC9jHhpaZKIkCH2WNTTmZcyLYWR9T+o6jSNHYg9PkXuMva2NtuJiAqn9uEbmAFEJGrBoFm4suhHB54k4KIPk2HKY5JwUw8j6x8T0ieTYco6bp2FR/qIezWwX776c82UswhL5QjKliYbG5Zm9W1QgHrksLqakTqHrjBQBAkxKnkS25YsXPR6MOgoLMWy2z6dklRLN76dl6NDYBtZHVIIOm5M7B7tuj6wMoms6Xyn5SkLVno8RQrCkYAma0JBSYkgDu2bnkqxLYh1avxjqGMpQx1ACMvRHbEiDS12XkqoP/hrWiVzlvAqd0BWSlBIdnfmuM1suarCQFgtNXWrRtvZ2OgoK8KcnRmeoStBhNs3GosJFQKj2nGHNYFrmtFO8avCakjGFDEsGQRlEIlmYtxCblrgzvF2fcz260EO1Z6FxZdaVsQ6p3+RYczg3+VwCBAjIAOc4ziHPeubTsw4W7UVFmBZLaDY7n4/m4YnTr6ASdBeX512ORbMgkdxcfPOAz/07kHShs7hgMRKJVViZmz031iH1q5GOkRTZi/CYHi7KuIgMS0asQ+pX8zPmo6OjC51rXNfEOpx+ZVqtNA0fTkptLe7cXHwxXEOwr6kE3YVDd7CwYCGZtkwuzLow1uH0u5mumbisLubnzsehD+zk7ANNCMGinEUkaUlcnXV1rMPpd4W2QsY4xjAiaQTFtt6vhxnv2oqL8WZm0jRiRKxD6VOJ1yPUS4uLF7O4eHGswxgQFs3Cr8b9KtZhDJjxqeP57ejfxjqMAXNn3p2xDmHAmHY7By69NNZh9DlVg1YURYlTKkEriqLEKZWgFUVR4pRK0IqiKHFKJWhFUZQ4pRK0oihKnFIJWlEUJU6pBK0oihKnVIJWFEWJU6LrnMCxpGmajJdYBpLVaiVwbKrEs8TZWGY4e8t9NpNS9mo6zLi51VtKyauvvhrrMAbc/PnzefHFF2MdxoBatGgRzz77bKzDGHBLly7liSeeiHUYA+7222+PdQiDVo+aOIQQVwghdgsh9gkh/t8X7PdlIYQUQkzueYiKoihnpzNO0EIIHXgcmAeMBW4UQow9wX5pwF3Aht4GqSiKcjbqSQ16KrBPSlkhpfQDfwAWnGC//wYeBLy9iE9RFOWs1ZMEXQQc7vK4KrwtQggxCSiRUr7Wi9gURVHOan3eSSiE0ICHgK+exr63Abf1dQy9YpoI00Ra4qb/tF+JYBCpaaCdBSMupcTi9xO022MdyYAQhgGEVr9WBqee/FUeAUq6PC4ObzsmDRgHvCeEOABMB145UUehlHKllHKylDJuOhHTDhygYM0aCH+4E5phULJ2Lc5Dh2IdyYBIr65m4gsvYG9vj3UoA6Jo1y6Kd+6MdRhKL/QkQW8ERgghyoUQNmAJ8MqxJ6WUrVLKbCllmZSyDFgPXCOl/LhPIu5HIhAgY88e7M3NOOrqYh1Ov0upryeptZXMvXsRZ8H43JJPPiGpvZ287dtjHUq/s3V24qytxVlXh72jI9bhKD10xglaShkE7gTeBHYCq6SU24UQPxBCDOrVKVOOHEHz+/FlZODatQtMM9Yh9R/TJHPPHjxOJ1ogQGpNTawj6ldptbWk1dXRWlhI/s6dWDs7Yx1Sv8o6fBhT1wlaLGSfJVdIiahHDY9SytellCOllMOklD8Kb7tfSvnKCfa9eFDUng0D1+7d+NPTMRwOrG1tOOrrYx1Wv0luaMDe3o6RlIQvLY2sPXsibZaJqOjTTwnY7ZH22LwEvvS3ejxkVlfjSU3Fm5pKxtGj2NzuWIel9MBZ0DN0epKrq9F9PkybDYBgSgoZu3dDIt5+LiWZe/fiT04GwLTZ0P1+UhK0Fp1SX0/GkSP40tIA8DidFG7fjsXjiXFk/SOrqurzjl8hkLpO1uHDp36hEndUggYwDFy7dkX+gAGCycnYm5pIamyMYWD9w9HURFJLC8Fwggbwp6aStWdPQnaOFm3eTNBqBRGaFkFaLGCa5O7eHePI+p7F6yWzqgpPl8+yOzWVzCNHsCboF1IiUwkaSK6tRXe7MbsNvwokJ5Oxa1di1aLDteeAwxG12bDbsXq9pCRY56ijqQnXwYN4nc6o7d70dIq2bEH3+WIUWf/IrK4GCNWgj9E0TE0j88iRk7xKiVdnx2DfU0hqbAQhSGpoACnR/X6McLIWUqIFg5hWa4yj7BtaMIi1sxPd58Pi9UaadaQQSEIJrbOgINZh9pmUhgYEkBK+ErJ6vQSSkgCQQuBoa6MjJyeGEfat5JYWhJSkNDejGwZIiREe05/S2hrj6JQzpRI00HTOOTSPDU0nklZZSXplJUcuvRQACZBAA/1Nq5UDF1/MsTkQh/zjH7SVltJSVgaEklYiaRgxgqahQwFIbmpi1Ntvs3nhwsgXrplgNyQdmDgREb7iG7ppEwLYf/75oScT7NyeDRLr09lTmkakEeNYO2UCJeXj6DpdG21kuCMpIQkRScJm+LLftFgSLjFHdPksS00L3RWbqOf2LKDaoBVFUeKUStCKoihxSiVoRVGUOKUStKIoSpxSCVpRFCVOqQStKIoSp1SCVpQEJRLpDtizVIIOBu05f1oavm63BScyn9MZNQdJIgs6HARttujboBNYa24uIpGnzD0LJOQn1eJ2k7FjB5YezPnrzc2lfurUHh135aGVfND0AYYcwAmHpMTR0IBr794evfzo+efj6cGtzkd8R1hZvZJqX3WPjttTFp+Pws8+I70H80r4U1LYfP31Pbpx482WN3mz9U185sDO3ZHU0UFuRQVaMHjGr20oLaW+vPyMX6cFg+Tt24ejre2MX6v0rYSqQeseD+n79+Pctw+Lx4MvM5NgSsqAHX91w2r+0fQPXqh5gaVFS5nsnIzox9trk5qayNq9G0dTE1IImkeM6LdjdVfhqeD91vdZ37aeKWlT+HLOl8m15fbb8TS/n9w9eyj+9FOSWls5OHUqbUVFp35hH1nfuZ7qQDV/a/0b12Rcw0VpF2ER/ffnY+vsJPfAATKOHkUzTVry8vAP0N2PFr+fgr17ydu/n5aCAuqGDsWbmjogx1aiJUSC1nw+0isrQzPPCYHX5SIJ2LZ1Kz974AFM0+Syyy5j0aJFUa97++23eeqpp8jKygJg/vz5XH755QA8/fTTbNy4EYAlS5Ywa9as04sFjQZ/A//fgf+PfHs+txbdyvi08X2aqO0tLWTu2UNKfT0BhwN3djaOLtOifvrppzz99NOYpsmcOXNYuHDhce/x4YcfsmrVKoQQlJaWcvfddwNQX1/PE088QWP4/e677z5yc0+ceG3ChobGhrYNfNz+MTPTZ3JdznW4rK4+K6sWDJK9dy9DNm1C9/nwZGSctG11y5YtPPfcc5imyezZs7n66qujnv+///s/doYn6vf5fLS3t/PEE0/Q0NDAI488gpQSwzCYO3cul4bnYulKR8dv+vlj0x95reU1FroWMi11Wp8mapvHQ/aBA2TW1BC0WOhwuUg5RU12+/btrFq1CtM0ueCCC7jiiiuinm9qauKZZ57B4/FgmibXXnst48ePp6Ojg5UrV3Lw4EGmT5/OjTfeGHmNYbHQmZFBamMjGUeP0lRURF1ZGf4BrPAogzxBa4EAqZWVuHbtQpgmPpcrcvkqTZO/PPccD37ve7hcLv7rv/6Li8aPJ3/06Kj3uOiii7jjjjuitm3cuJH9+/fz2GOPEQgEuPfee5k8eTLJXeZPbg40c9R39IRxWTUrUkqOeI/wYMWDDHEM4daiWxmdOvqE+58uW3s7mXv2kHr0KEG7HXdWVtQEOLa2NgzD4KVf/5r//vd/JzU/n+8+8ACTJ0+mpOTzdX5ramp46aWX+OEPf0hqaiqtXWY5++Uvf8l1113Hueeei8fjQQu31x70HsRreiP71fprARBCYBM2TGnyftv7fNj2IZdkXMI12deQbknvcVmFYZBVUcGQjz/G5nbjcTrxpn/+flavl5SGhshjU0qe/d3v+I/vfpfMzEweeOABJk2aRFGXWvbNN98c+fmtt97i4MGDAGRkZHD//fdjtVrxer3ce/+9ZIzPIK1L27xPhpo2dBH6fLlNN883Ps9fW/7Kl11f5vyU89FEz1sMLV4v2YcPkx1eqqrD6Yxaad3u8aB1+WIKWiwEk5IwTZPnn3+eu+66C5fLxU9+8hMmTJhAYWFhZN/XX3+d888/n9mzZ1NdXc0vf/lLxo8fj9Vq5ZprrqHx4EGaqqpICn8RWP3+8EkQeNPSQEqctbVkHjlCw5Ah1JeWHjddrdI/BnWCdlRXk7tpE770dAKZmVHPNVdVcXFyMuP37QPgzqIign/+M9o995xy6tBDhw5xzjnnoOs6uq5TVlbGpk2buOiiiyL7PHHoCba0bYl6ncnnHTJdE9fujt08duAxHh/3eK/Km71tG+nV1bTn54cmne9CDwQo/Phjjh49yiK7nXMPHqTD6+WCCy7g448/jkrQb7/9NldccQWp4ctWZ7hT9PDhwxiGwbnnnguAI/xH2B5s5/sHvo8kuuYakAGSRehLSxMaNmz4TT9vNL2B0+Lk6uzoGuyZSG5qYvg//gEQmg60yxeRME2yDhzA1WWVkKbWVia4XJHa/vTp0/nkk0+iEnRX69ev57rrrgPA0uV3GQgE8IzwsLJjJaLz82Ma0sAqPv/cWIQFKSUNwQZ+2/BbRjtGk6b3vLM16/BhCvbsoT0ri2C3ecntnZ0UdltcIGi1sn/qVA4cOEBubi454X6EKVOmsGXLlqgELYTA6w19uXq9XjIyMkLva7czfPhwhq9bR0dDA+Wffvr5MT0eOl2uY2+AJz091P4fjqN6dO8qG8rpGdQJunPIEI44HLi2bsVRWxtZTxCgNRikYsgQqubOBWCHxcLuPXv4l27J+cMPP2T79u0UFhaybNkycnJyKC8v5/nnn2fhwoX4fD62bNkSleAA7im/B7/0R227dfOtkZ9NaWJIA01ozM+dz3X51/W6vEfPP5/O3Fwy9+0LXTE4nZErBsNq5eCsWaxfv57Nzc1MmDULqWlkNjSwt1sHYk14aavvfe97mKbJokWLOO+886ipqSElJYUVK1ZQV1fH+PHjufnmm0mzpPGrkb+K6vxc17aO39f+PvI4KIMIBBmWDBbnLmZqes86Wo/pzMlh67XXUrJpExlVVQTCaydCaJa22pEjqTo2jSbw8ccfE9ixI/I4MzOT/fv3n/C9GxoaqK+vZ2x4ilmAxsZGHnroIWpra1m8ZDEXll4Y9ZqfVv+U+mBojUopJQEZQBc65yWfx3Wu63qVnAHqhg3Dk5ZGwf792Jub8aamYoQ/q76UFA5OmBBZogw+nxa2ubkZl+vzJqWMjAwqKyuj3nv+/Pk88sgjvPvuu/j9fu66666o59eVl3NY00i/MFRmm8fDiHXrIs9rgQDJ7e0E7Hb2TZ5Ma35+r8qqnL5BnaARAk9uLp5LLsFRW0vm1q046urwhS+FTSEiNU1T1yPTTR4zdepUZs+ejdVq5Y033uDhhx/mxz/+MZMmTWLv3r3cc889OJ1ORo8ejd6t59+iWbCc5NfnN/1oQuOizIu4oeAGsm3ZfVJc02ajddgwOoqLST90CNe+faHL0HANWFosmLqOoWnH1bC7MgyDmpoali9fTmNjIw888AC/+MUvMAyDnTt3smLFCrKzs3n44Yd57733mDNnDnYtulZnE6G1G48lbYfm4Pqc67koo+86zzqzs9l1+eWk1dZSsnEj6UePhpKUlEhNi7oSCp7ByIz169czZcqUSPMNQFZWFj/60Y9obm7mkUceYeqUqZErCyDSfOE3/ehCZ2TSSK7PvJ4h9iF9UNLQl05bfj4dOTk4jx4lr6ICR0cH7vCXkqlpmD2cNnTjxo3MmDGDuXPnUlFRwdNPP839998fKb/UNIwu73/s70QLBnG0t2NaLFSNGUNLYWGPY1B6ZnAn6GM0DU9BAUdyc0mprsa1fTsZFgtNRz9vI25oaIh0Bh6T3qVN87LLLuPpp5+OPF68eDGLFy8GYMWKFVGXjCcjEBgYTMuYxo2FN5Jv75+ahmG30zxiBG3FxTgPHMBVWRmpUWVmZkY6+CDUQdS93FlZWYwYMQKLxUJeXh4FBQXU1NSQlZVFWVkZeXl5QOhyuXvtuyu/6SdVT+XanGu5NONSrFr/rDrTnpfHjquuIr26miEbN5JxgiF2LpfruHJ3rVl2tX79em699dYTPudyuSgqKmL37t1M7Tbc0sCg3F7OosxFDEsa1osSnZyp6zQXFdGal0dGTQ15FRXogcBJ93e5XDQ3N0cet7S0HFfutWvX8o1vfAOAoUOHEgwG6ejoiPr8d6cZBvbOTmpGjKCpqChhVhQabBIjQR+j63SWlOAuLMR2zjlseeABjh49SlZWFmvWrOGee+6J2r2pqYnMcNv1hg0bQs0YUmL6/XT4fKSnp1NZWUllZSXf/va3T3n4O0rvYHjycEocJafcty8YDgdNY8bQVlqKraMDgOHDh1NTU0NtbS2ZmZmsXbv2uEvaKVOmsHbtWi655BLam5qoqa4mLy+P5ORk3G43ra2tOJ1Otm3bxrBhJ05EE1In8NWCr3KB8wKStKR+LytC0FZUxLbCQjKOHAl1XnUxdOhQamtrqa+vx+VysX79+uM6fwEqjlTgdrsZPnx4ZFtTUxOpqanYbDY6OzvZs2fPcSMhvuz6MhZhYVTSqH4dOnmMabHQVFJCa34+yc3NJ+2UKy0tpa6ujoaGBjIyMti4cSNf+9rXgFAfAYS+tHft2sXMmTOpqakhEAhEdYB2F0hKovK88+h0uTDCq9wrsZFYCTpM6jq+khL+6Y47uP/++zFNk7lz51JaWspzzz3HiBEjmDZtGq+88gofffQRmqaRlpbG3XffTUp1Nak7dnDdn/8MQHJyMt/5zneOa+I4kUuyLunvop1QMDk5skK3rut87Wtf40c/+hGmaXLJJZdQUlLCH/7wB4YNG8aUKVOYOHEimzdv5u677+YGj4d/nz8/8gd7yy238IMf/AApJUOHDmXOnDknPKbT4mSO68TP9SshaCkuPm6zrussXbqUn/3sZ0gpmTVrFsXFxfzpT3+ivLycSZMmUeWv4scdP+bSGZdGJdnq6mqef/75yOMrr7zyuD6Hccnj+q9MX8CwWmk/yTBHCJV78eLFPProo5imycyZMyksLOSVV15h+4TtONId3PDlG3juuef4+9//jhCCW2+9NVL+++67D6/Xi2EYbN68mW9+85sUFhbSFr6KUmJLyDi5X18IIV999dVYh0H6/v2kV1REOhf72/z583nxxRcH5FgnUr56NS1Dh9J8kppyf1i0aBHPPvvsgB3vmH3effzi6C94aMhDOLSBHya2dOlSnnjiiQE73nfrvouJyYrcFQN2zBO5/fbbY3r8WJJS9upyKyFv9VYURUkEKkEriqLEKZWgFUVR4pRK0IqiKHFKJWhFUZQ4pRK0oihKnFIJWlEUJU4l5I0qZ0rz+dDDs30d+98anoJT6jrBBJus3NreHrUUku71YguX10hKwug2m9pg5jE9HPGHbg0/9n+FrwK7CJWx3F4emUI0EdQF6+gwQ3eVHptdscJfAUCKlkKeRd2AMpioBA24du4kvaIiNN+AaWLt7KRwzRogNJFM1dy5mAlyy6vm9zNkzZpQghYCe0cHFo+HjMpKtECAlqFDqQtPN5oI3m17l780/yUy2ZPP9PFk3ZMAeE0v38z7ZszuEuxrUkoeb36cTrMTXeiRW72fbHkSQxokaUn8d/Z/D8it6krfUE0cQGdxMVLT8GZl4c3Job2sDG9WFqbFgjs/P2GSM4RmxOvMz8e0WvFkZdFSWoo7JwdPVhboOu0DuIzUQJiSMgVd6By7YzZVD10NGdIgRU9hZNLIWIbXp4QQTEmaEpm32y7skSsFiWRyUv8uwab0PZWgAW9WFr7MzOhFZqVE8/tp7TKpTqJoGj4c3e+HLrf5W9xuPBkZoUSdQHKsOZybfC4Bjp8Rbp5zHjYtcb58AS5OuRhNaJjy8yYsU5oIIbg0+fhlvJT4phI0gBA0jx6N1e2ObLK2t+MuKCDQZU7gROF3OunIz4/MgAehVTsaR4+OWrkkUVydcTU6n9eiDWmgC51Zaae3zuRgkqqlMiNpRtTqPgYGU5Omkq73fAkyJTZUgg7zZmfjS09H93hASiw+H20DuEr2QGseMQLLsbJ6PPjS0nBn983CAvGm0FbIaMfoSJusRDI3fe7ATJMaA3NS5iAQmNJESomGxpdSvhTrsJQeUAn6GE2jZfRobB0dWDs78eTk4DvJhO+JwOty4c7JwdrZia2jg4bRo6MWKU00CzIWoAs9Unu+ND1xL/edupPJjskYGAQIMDFpIpl65qlfqMSdxP2L7AFPbi6BlBSs7e20jBoV63D6XdOoUdjb2wmkpND5BXMOJ4Ih9iEMtQ/FK71cnHYxKXpKrEPqV3NT5qKhoaNzecrlsQ5H6SE1zK4rXad5zBhSjhzBl5n4NQ5PZiZtxcWhkRtnwVpz17qupa6+jrnOgZnrO5ay9CzOTzqfIEFyLDmxDkfpIZWgu3EXFeFOsKFmJyUENVN7t/r2YDIsaRgPljwY6zAGzI3OG2MdgtJLqolDURQlTqkErSiKEqdUglYURYlTKkEriqLEKZWgFUVR4pRK0IqiKHFKJWhFUZQ4pRK0oihKnFIJWlEUJU6pBK0oihKnVIJWFEWJU0J2WVXjtF4gxBXAI4AO/EZK+dNuz38b+DoQBOqBf5ZSHjzV+2qaJs80FmVwslgsBIPBWIcx4FS5zz5Syl6tgHFGCVoIoQN7gLlAFbARuFFKuaPLPpcAG6SUbiHEHcDFUsrFp/HecvXq1Wca/6A3d27iz6x2Ik888USsQxhwt99+Oz//+c9jHcaA+853vsPy5ctjHcaAW758ea8T9Jk2cUwF9kkpK6SUfuAPwIKuO0gp35VSHls7aj1Q3JsAFUVRzlZnmqCLgMNdHleFt53M14A3zjQoRVEUpR/ngxZCfAWYDMz+gn1uA27rrxh6ojPYSXuwnfyk/FiHovQ108Tq8xFwOGIdyYDQA6E1GA2rNcaRKD11pjXoI0BJl8fF4W1RhBBfAv4TuEZK6TvZm0kpV0opJ0spJ59hHP3mmUPPcNeWu3AH3afeWRlUUpuaGL5hAzb32XFuS/fsoXzXrliHofTCmSbojcAIIUS5EMIGLAFe6bqDEOI84ElCybmub8IcGM3+Zt6tf5eAGeBvdX+LdThKX5KS3AMHsPp8ZFZVxTqafufo6CCjsZG05maS29tjHY7SQ2eUoKWUQeBO4E1gJ7BKSrldCPEDIcQ14d1WAKnAi0KIz4QQr5zk7eLOn6v/jClNNKHxxyN/xGectPKvDDIpLS042tpoy8kh68gRrF5vrEPqV3mHDxOwWgnYbOQdOhTrcJQeOuM2aCnl68Dr3bbd3+XnL/VBXAOuLdDG3+r+hi50NKHhN/28Xf82V+VfFevQlN6SkpzKSgJJSaBpmJqGq6qKuuHDYx1Zv0hyu3HV19OekQGAq6GBo52deFISeyXzRKTuJAx7peaVSO0ZQCJ5oeoFgubZOcA+kTja2khtacGfnAyANzWV7KoqLL7EvELKqarCsFhACBCCgM1G7lnQrJOIVIImNHLjr0f/iuDzMeUWYcFjeHiv4b3YBab0iZwDBwjY7ZHHUtcByKiujlVI/cbm8ZB99CjuLrVlT0oKWbW12M+SztFEohI08Hrt6wRlEA0NKWXknyENfl/1ewxpxDpEpYeS2tpIb2zEn5SEME0wTYRp4k1JIefgQXS/P9Yh9qmcI0eQIlTVEOGyCikxNI3cI8cNuFLiXL+Ngx5MDnsOIxCYmARlEEMa2DU7mtAImAE6g52kW9NjHabSAzavl6DVGqo9SonN58Nvt4MQmBYLFr8fw2aLdZh9xu71Yuo6js5O9GAQAQQtFqSmYU/wjtFEpBI08O3h3+bbw78NwMrKlfyt7m/8cdofYxyV0hfacnNpy80FwN7RQemWLeybNg0z3MyRaCrGjYv8PPLTT9FNk53nnx/DiJTeUE0ciqIocUolaEVRlDilErSiKEqcUglaURQlTqkErSiKEqdUglYURYlTKkEriqLEKZWgFSVBCbUI86CnblTpZlLGJOr99bEOQ+kHQZsNT1oapujVOp6DRn1BAZpK0oNaQiZoa0sLqfv30z5yJMG0tDN67WTXZCa7erbAi+uzz/BlZuIuKoIEvVMt1qxeL9kHD9LhctEevkPwdBk2G4fHj+/RcV9pf4WADHBZ6mWkaWf2meoxKUlrbSWztpaqoUPPeOmqpoKCHh22U3bygvcFzrecz3jL+MgMj8rAS6gEbWlrI333blIOHULz+fAUFZ1xgu6NlIoKUvfvx7lzJy3jx+PJzwdNfbj7gsXnI+vwYXIOHsTm9VI1atQZJ+je2OHbwVHjKOu965nlmMWclDkka8n9dryUtjYKKytJa2lBAEdLSgZsbcEO2UGlUckh4xBv+99mnm0eYyxjEGfJlUc8SYgErXd2kr5nD6kVFZhWK96cHOyNjTGJxZubi+b1kr1uHQGnk5Zx4/Dm5YXm5lXOmO73k1lVRe6BAwC409MxY/SlZ8ECEt5zv8cHng+4NPlSZifPJklL6rNjJLe3U3DwIM7GRnxJSbRlZpLa2tpn73+6rMKKlJJW2coLvhfICmQxzzaP4fpwlagH0KBO0JrHQ9revaTv24dpseDNzo6qsdq6fbBNiwV/dnafHFvv7MR6krXezKQkvElJ6G43OR98gC87m9Zx4/D10bHPBpphkHnkCLn796OZJu60tMg8zhCapS6toSHyWAIdmZl9csXSYXaw07czalun7AzFJTQ0NExpsrpzNe+53+PylMu5KPkidNHzZq0kt5uCgwdx1dXht9tpc7kiX+pCSlLb2qJmowvY7X22Qsoh4xCN5ucVmhbZgpQSIQQWLEgpqTfrec77HPlaPvPt8ynRS77gHZW+MqgTtL2hgYwdOwikpBBwOqNqqbrHQ/3f/867776LlJLx48czeeZMai++GBm+VHzzzTf59a9/TVZWFgALFizgyiuvpLa2luXLl2OaJoZhsGDBAq6++uqoY6dWVJDcbZWK7nMLG8nJSF0nuaYGqevUX3RRf/waEpLN46Fg924AOjIyohOvlKQ1NJDa3Pz5JiH4W1ISz/z1r5imyQUXXMAVV1wR9Z5NTU0888wzeDweTNPk2muvZfz48XR0dLBy5UoOHjzI9OnTKVtQxh/bo2czNDBCNegwTYSStEd6eK3jNaY4ppAiep4wM+vqyDlyhI70dPwOR9Rz9nDy7ipotbJr0qTj3mfXrl385S9/wTRNpk2bxqWXXnrc72DVqlV0dnbicDi46aabeNb6LH4Z/dn14yeZUBOOEAIrVoIyyGHzMGsDa1miL+lxWfvayy+/zJ49e0hJSeHf/u3fjnteSskbb7zB3r17sVqtXHvttRQWFsYg0jM3qBO0p6SE6ssvx7lzJ46aGoIOR6TNOWC38/0PPuAbjz5KdnY2d955J/eNHElpt3a82bNn841vfCNqW2ZmJo888gg2mw2Px8OyZcuYMWMG2V1qwK3jx9ParcOp+M9/jvys+f1YW1sxk5KomzkTT3FxXxc/oXlTU9l14YXkHDxIVngJJ09qamQZp8bi4qg1BU3T5Lf3389dd92Fy+XiJz/5CRMmTIj6Q3z99dc5//zzmT17NtXV1fzyl79k/PjxWK1WrrnmGqqrqzly5AgzkmcwI3lGVDw/bfgpDUaoxi6lJEhogYcLHBdwecrlpGi9q81Wl5bS7nSG2p2bm/EmJ0dWgfGmpLB3/Hh8yV/c5m2aJi+99BK33XYbTqeTRx55hLFjx5Kfnx/Z59VXX+X8889nypQp7N27l9dff53v3fS9qPepNWt50vNk5PGxBSuSRTKX2S7jXMu5vSprX5s4cSJTp07lpZdeOuHze/fupampiW9+85tUVVXx2muvsWzZsgGOsmcGdYIGCLhcNMycia2xEeeOHSTV1RFMTqauro68vDwKwj3ZF198MR9++CGlpaWnfE9rlyQeCAQwTfO04xGBAPbWVkyrleaJE3EPGYK0DPpfc0wEHA6qR4+moaSE3AMHcFVXEzxJR9mBAwfIzc0lJycHgClTprBly5aoBC2EwBtuJvB6vWSEF1W12+0MHz6curq6L4xHIgnIABoak5ImcWXqlWTqmX1QUkAI2l0udjudpDc3UxxO1GfSjHHo0CGysrIiV4QTJ05k+/btUQm6traWa665BoDhw4fzzDPPnPT9jiVmm7Ax1zqX863n96oZp7+UlZXR3OVqqrvdu3dz7rnnIoSgpKQEr9dLe3s7aQM4gKCnEiZz+LOyqL/wwlCzx7Zt+FtayMz8/I8nOzubXbt2Hfe6Dz74gK1bt1JcXMztt99ObnhkQF1dHd/73veorq5m2bJlUbXnk5G6jrW9neZx4+gsLUUm0EodseRPSaHqnHNoKC0lt6KCrBMs3dTc3IzL5Yo8zsjIoLKyMmqf+fPn88gjj/Duu+/i9/u56667TjsGIUIr7oy3j+fq1KvJseT0vEBfRNNoy8pip8uFs6GBogMH0I3TW3KttbU18qUDod/BwW5NI4WFhWzdupWLLrqIbdu24fP56OzsJKXbF4Ff+rELO5dYL2GadRpWMTAjSPpDW1sb6emfr4iUnp5OW1ubStADTgh8OTnUXnwxm91uGnfs+MLdZ8yYwSWXXILNZuPVV19lxYoVrHjwQbRAgNzcXFauXElDQwPLly9n1qxZUQngROpnzSKYnIzZZYFSpe94U1M5NGECdWVlBHvwO964cSMXT5nCrHnzqKio4Omnn+b+++9HO42OxZvSbkLXdAotA9N2KTWNltxcWrOySOnowJd05iNFdNPE0u3qb/78+bz00kts3LiRoUOH4nQ6jyt/tsjmJvtNDLUMJUn03QgV5cwl5iBdIbCXl3O0y1C7hoaG42rB6enp2MK13Hnz5oU6Gg4dIvcf/4jsk52dTVlZGVu3bj3lYf0ul0rOA8Cbnn5cgna5XFGXuS0tLcd9oW5//31utFgQhsHQoUMJBoN0dHSc1jFLbCUDlpy7krpOh9N5WqNTnE4nLS0tkcfD9u7lS93WIXQ6nXz1q1/l29/+NvPmzQPA0a1TUhc6Y61jEyY5H6sxH9O9Rh3PEjNBA6NGjeLIkSPU1NQQCAR47733mDEjuuOnsUsCX7duHUOGDEELBOhsacHn8wHQ3t7Otm3bKClRw4riWWlpKXV1dTQ0NBAMBtm4cSMTJkyI2iczI4O6I0cQEPlcDIbL3NNVUlJCQ0MDjY2NBINBGvbvZ0SX9meAzs7OSJ/KO++8w5QpU2IR6oAaNWoUmzdvRkrJ4cOHsdvtg+a8J1YTRxe6rnPnnXdy7733Ypoml19+OWVlZTzzzDOMHDmSmTNn8vLLL7Nu3Tp0XSctLY177rkHfD4am5r4xje+gRACKSWLFi2ivLw81kVSvoCu6yxevJhHH30U0zSZOXMmhYWFvPLKK5SWlnLuuedy9dVXs/eZZ3j+Rz/C0DRuvfXWyE0X9913H16vF8Mw2Lx5M9/85jcHzVCsY3RdZ+HChfz6179GSsl/DBmC0+nkt3/7GyUlJZxzzjns27ePN954A4ChQ4dy3XXXxTjq3vvjH//IgQMHcLvd/OIXv+CSSy7BCLfbT5kyhREjRrB3714effRRrFYrCxYsiHHEp0/IOJlMRQghV69eHeswSNu7l9R9+6gJX/71t7lz5w7IceLNE088MeDHTOrooOzTT9kzc2ZMVvW+/fbb+fnPfz5gxxuzaRPCNNkR41ryd77zHZYvXx7TGGJh+fLlSCl7ddtlwjZxKIqiDHYqQSuKosQplaAVRVHilErQiqIocUolaEVRlDiVsMPszoTe2YnF7QbA0hmaVtJeH1r2Suo6/sw+mm9BGXB6IEBS+GYUq8cDQHJzc2TqUrfTiUygRRUcnZ1YAgHg8zUJ08I3rwSt1j6bolQZGCpBA+l79pC+ezeG3Y6QEt3jIeeDDxBSIoWg+qqrMNW8GoNSel0dpZs3R+48tLvdlG3eDIAeDLJ3+nTcTmcsQ+xTZTt2kNrWhmGxYAkGQUpGbN6Mbhi4U1PZPnVqrENUzoBK0EBnaSkplZXHTahva27GXVKikvMg1paTQyApCU9qKlLX6QxPJmTxekHTcA+SO8pOV21xMcm7d4duD+8iraWFWjXl7aCTONd2veDPzMSXk4Ol6wopUqIFArR3mXNYGXwMm4360lIc3Va/SXK7qR02LOHWjGzJzSVotaIHg5FtejCIYbXSNIBrOCp9I7E+nb3QNmYMlnAbJYC1tZXO0tIBXXRW6R9NRUUgBCI8B4XF78fvcNCegEuQmbpOdWkpyV0mgUru7KR6yBBMNS/5oKMSdJgvKwtfVlaok1BKdL+f9hEjYh2W0geCSUk0lpREatFJHR0cHTYsoToHu2rKz8ewWNCCQTTDwNQ0GrtNmqQMDon5Ce0JIWgdOxZLZyfWtjbcRUWhdQ6VhNBYXIxmmlh8PgJJSbQl8OW+YbFQU1pKcmcnyR0d1AwZgnGSlWiU+KYSdBe+nBz8GRlYOjtpHzUq1uEofSjgcNBYXIyzoYHaoUOjVghPRI35+UghkELQEF72TRl8VKNUV0LQMm4cydXV+E+xeooy+DQMGYLF56M1Ly/WofS7oNXKkaFDEaZJUI1CGrRUgu7Gl5eH7yz4Az4b+ZOTOXRufK1I3Z/q1LC6QU81cSiKosQplaAVRVHilErQiqIocUolaEVRlDilErSiKEqcUglaURQlTqkErSiKEqdUglYURYlTKkEriqLEKZWgFUVR4pRK0IqiKHFKJWhFUZQ4pRK0oihKnBIyvDR7rAkhTEDEOg5FUZQ+IqWUvaoEx02CPh1CiI+llJNjHcdAOZvKezaVFc6u8p5NZYW+La9q4lAURYlTKkEriqLEqcGWoFfGOoABdjaV92wqK5xd5T2bygp9WN5B1QatKIpyNhlsNWhFUZSzRlwmaCHEFUKI3UKIfUKI/3eC5+1CiBfCz28QQpTFIMw+cRpl/bYQYocQYosQ4u9CiNJYxNlXTlXeLvt9WQghhRCDtvf/dMoqhLghfH63CyF+P9Ax9qXT+CwPEUK8K4T4NPx5vjIWcfYFIcRTQog6IcS2kzwvhBCPhn8XW4QQk3p0ICllXP0DdGA/MBSwAZuBsd32+VfgifDPS4AXYh13P5b1EiA5/PMdg7Wsp1ve8H5pwBpgPTA51nH347kdAXwKuMKPc2Mddz+XdyVwR/jnscCBWMfdi/LOAiYB207y/JXAG4Tu7ZgObOjJceKxBj0V2CelrJBS+oE/AAu67bMA+F345z8Cc4QQg/Eml1OWVUr5rpTSHX64Hige4Bj70umcW4D/Bh4EvAMZXB87nbIuAx6XUjYDSCnrBjjGvnQ65ZVAevhnJ1A9gPH1KSnlGqDpC3ZZADwrQ9YDGUKIgjM9Tjwm6CLgcJfHVeFtJ9xHShkEWoGsAYmub51OWbv6GqFv5cHqlOUNXwqWSClfG8jA+sHpnNuRwEghxFohxHohxBUDFl3fO53yLge+IoSoAl4HvjEwocXEmf5tn5Clz8JR+pUQ4ivAZGB2rGPpL0IIDXgI+GqMQxkoFkLNHBcTujJaI4QYL6VsiWVQ/ehG4Bkp5S+EEDOA/xVCjJNSmrEOLF7FYw36CFDS5XFxeNsJ9xFCWAhdLjUOSHR963TKihDiS8B/AtdIKX0DFFt/OFV504BxwHtCiAOE2u5eGaQdhadzbquAV6SUASllJbCHUMIejE6nvF8DVgFIKdcBSUD2gEQ38E7rb/tU4jFBbwRGCCHKhRA2Qp2Ar3Tb5xXg1vDP1wPvyHDL/CBzyrIKIc4DniSUnAdzGyWcorxSylYpZbaUskxKWUaozf0aKeXHsQm3V07nc/wyodozQohsQk0eFQMYY186nfIeAuYACCHGEErQ9QMa5cB5BVgaHs0xHWiVUtac8bvEujf0C3pA9xDqFf7P8LYfEPpjhdCJfRHYB3wEDI11zP1Y1reBWuCz8L9XYh1zf5a3277vMUhHcZzmuRWEmnR2AFuBJbGOuZ/LOxZYS2iEx2fAZbGOuRdlfR6oAQKEroS+BtwO3N7l3D4e/l1s7ennWN1JqCiKEqfisYlDURRFQSVoRVGUuKUStKIoSpxSCVpRFCVOqQStKIoSp1SCVhRFiVMqQSuKosQplaAVRVHilErQiqIocUolaEVRlDilErSiKEqcUglaURQlTv3/a6bz40UrPjAAAAAASUVORK5CYII=\n",
                  "text/plain": "<IPython.core.display.Image object>"
                },
                "metadata": {}
              }
            ]
          }
        },
        "3244664c34744fcda38d86f68e57a836": {
          "model_module": "@jupyter-widgets/base",
          "model_name": "LayoutModel",
          "model_module_version": "1.2.0",
          "state": {
            "_model_module": "@jupyter-widgets/base",
            "_model_module_version": "1.2.0",
            "_model_name": "LayoutModel",
            "_view_count": null,
            "_view_module": "@jupyter-widgets/base",
            "_view_module_version": "1.2.0",
            "_view_name": "LayoutView",
            "align_content": null,
            "align_items": null,
            "align_self": null,
            "border": null,
            "bottom": null,
            "display": null,
            "flex": null,
            "flex_flow": null,
            "grid_area": null,
            "grid_auto_columns": null,
            "grid_auto_flow": null,
            "grid_auto_rows": null,
            "grid_column": null,
            "grid_gap": null,
            "grid_row": null,
            "grid_template_areas": null,
            "grid_template_columns": null,
            "grid_template_rows": null,
            "height": null,
            "justify_content": null,
            "justify_items": null,
            "left": null,
            "margin": null,
            "max_height": null,
            "max_width": null,
            "min_height": null,
            "min_width": null,
            "object_fit": null,
            "object_position": null,
            "order": null,
            "overflow": null,
            "overflow_x": null,
            "overflow_y": null,
            "padding": null,
            "right": null,
            "top": null,
            "visibility": null,
            "width": null
          }
        },
        "343d3f9cad7e4c6db59cd3d3c8326aaf": {
          "model_module": "@jupyter-widgets/output",
          "model_name": "OutputModel",
          "model_module_version": "1.0.0",
          "state": {
            "_dom_classes": [],
            "_model_module": "@jupyter-widgets/output",
            "_model_module_version": "1.0.0",
            "_model_name": "OutputModel",
            "_view_count": null,
            "_view_module": "@jupyter-widgets/output",
            "_view_module_version": "1.0.0",
            "_view_name": "OutputView",
            "layout": "IPY_MODEL_735b625bcdcc42c0b6ec0b1765be9c40",
            "msg_id": "",
            "outputs": [
              {
                "output_type": "display_data",
                "data": {
                  "image/png": "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\n",
                  "text/plain": "<IPython.core.display.Image object>"
                },
                "metadata": {}
              }
            ]
          }
        },
        "735b625bcdcc42c0b6ec0b1765be9c40": {
          "model_module": "@jupyter-widgets/base",
          "model_name": "LayoutModel",
          "model_module_version": "1.2.0",
          "state": {
            "_model_module": "@jupyter-widgets/base",
            "_model_module_version": "1.2.0",
            "_model_name": "LayoutModel",
            "_view_count": null,
            "_view_module": "@jupyter-widgets/base",
            "_view_module_version": "1.2.0",
            "_view_name": "LayoutView",
            "align_content": null,
            "align_items": null,
            "align_self": null,
            "border": null,
            "bottom": null,
            "display": null,
            "flex": null,
            "flex_flow": null,
            "grid_area": null,
            "grid_auto_columns": null,
            "grid_auto_flow": null,
            "grid_auto_rows": null,
            "grid_column": null,
            "grid_gap": null,
            "grid_row": null,
            "grid_template_areas": null,
            "grid_template_columns": null,
            "grid_template_rows": null,
            "height": null,
            "justify_content": null,
            "justify_items": null,
            "left": null,
            "margin": null,
            "max_height": null,
            "max_width": null,
            "min_height": null,
            "min_width": null,
            "object_fit": null,
            "object_position": null,
            "order": null,
            "overflow": null,
            "overflow_x": null,
            "overflow_y": null,
            "padding": null,
            "right": null,
            "top": null,
            "visibility": null,
            "width": null
          }
        }
      }
    }
  },
  "cells": [
    {
      "cell_type": "markdown",
      "metadata": {
        "id": "pvLBhVirapw-"
      },
      "source": [
        "# Outlook #"
      ]
    },
    {
      "cell_type": "markdown",
      "metadata": {
        "id": "CDnFYaehas2B"
      },
      "source": [
        "In this colab we investigate the **value iteration** and **policy iteration** algorithms in a maze environment using the value function V and the action-value function Q."
      ]
    },
    {
      "cell_type": "markdown",
      "metadata": {
        "id": "ILQS3CjXDRO0"
      },
      "source": [
        "# Installation #"
      ]
    },
    {
      "cell_type": "code",
      "source": [
        "!pip install importlib-metadata==4.13.0"
      ],
      "metadata": {
        "id": "CCHJW9TP6E6W",
        "colab": {
          "base_uri": "https://localhost:8080/"
        },
        "outputId": "3328dcbe-bad8-43f7-df03-d7de92347c59"
      },
      "execution_count": null,
      "outputs": [
        {
          "output_type": "stream",
          "name": "stdout",
          "text": [
            "Looking in indexes: https://pypi.org/simple, https://us-python.pkg.dev/colab-wheels/public/simple/\n",
            "Requirement already satisfied: importlib-metadata==4.13.0 in /usr/local/lib/python3.8/dist-packages (4.13.0)\n",
            "Requirement already satisfied: zipp>=0.5 in /usr/local/lib/python3.8/dist-packages (from importlib-metadata==4.13.0) (3.15.0)\n"
          ]
        }
      ]
    },
    {
      "cell_type": "code",
      "source": [
        "if get_ipython().__class__.__module__ == \"google.colab._shell\":\n",
        "    !apt-get install ffmpeg"
      ],
      "metadata": {
        "id": "bUpuvJWUdkH9",
        "colab": {
          "base_uri": "https://localhost:8080/"
        },
        "outputId": "b3207a5d-1bf6-401c-d616-6ab3444bcbd9"
      },
      "execution_count": null,
      "outputs": [
        {
          "output_type": "stream",
          "name": "stdout",
          "text": [
            "Reading package lists... Done\n",
            "Building dependency tree       \n",
            "Reading state information... Done\n",
            "ffmpeg is already the newest version (7:4.2.7-0ubuntu0.1).\n",
            "0 upgraded, 0 newly installed, 0 to remove and 22 not upgraded.\n"
          ]
        }
      ]
    },
    {
      "cell_type": "code",
      "metadata": {
        "id": "H6bDf5E_Hh-3",
        "colab": {
          "base_uri": "https://localhost:8080/"
        },
        "outputId": "6b22825c-d87a-4940-8679-605e3c54bc5f"
      },
      "source": [
        "!pip install git+https://github.com/osigaud/bbrl_gym"
      ],
      "execution_count": null,
      "outputs": [
        {
          "output_type": "stream",
          "name": "stdout",
          "text": [
            "Looking in indexes: https://pypi.org/simple, https://us-python.pkg.dev/colab-wheels/public/simple/\n",
            "Collecting git+https://github.com/osigaud/bbrl_gym\n",
            "  Cloning https://github.com/osigaud/bbrl_gym to /tmp/pip-req-build-btvuqf8n\n",
            "  Running command git clone --filter=blob:none --quiet https://github.com/osigaud/bbrl_gym /tmp/pip-req-build-btvuqf8n\n",
            "  Resolved https://github.com/osigaud/bbrl_gym to commit 5557075ecd7d4171ac0c21be3c69a94bcae655a9\n",
            "  Installing build dependencies ... \u001b[?25l\u001b[?25hdone\n",
            "  Getting requirements to build wheel ... \u001b[?25l\u001b[?25hdone\n",
            "  Installing backend dependencies ... \u001b[?25l\u001b[?25hdone\n",
            "  Preparing metadata (pyproject.toml) ... \u001b[?25l\u001b[?25hdone\n",
            "Requirement already satisfied: swig in /usr/local/lib/python3.8/dist-packages (from bbrl-gym==1.2.5) (4.1.1)\n",
            "Requirement already satisfied: numpy>=1.19.1 in /usr/local/lib/python3.8/dist-packages (from bbrl-gym==1.2.5) (1.22.4)\n",
            "Requirement already satisfied: gym==0.21.0 in /usr/local/lib/python3.8/dist-packages (from bbrl-gym==1.2.5) (0.21.0)\n",
            "Requirement already satisfied: box2d-py in /usr/local/lib/python3.8/dist-packages (from bbrl-gym==1.2.5) (2.3.8)\n",
            "Requirement already satisfied: mazemdp>=0.7.3 in /usr/local/lib/python3.8/dist-packages (from bbrl-gym==1.2.5) (0.7.3)\n",
            "Requirement already satisfied: cloudpickle>=1.2.0 in /usr/local/lib/python3.8/dist-packages (from gym==0.21.0->bbrl-gym==1.2.5) (2.2.1)\n",
            "Requirement already satisfied: matplotlib in /usr/local/lib/python3.8/dist-packages (from mazemdp>=0.7.3->bbrl-gym==1.2.5) (3.5.3)\n",
            "Requirement already satisfied: pyparsing>=2.2.1 in /usr/local/lib/python3.8/dist-packages (from matplotlib->mazemdp>=0.7.3->bbrl-gym==1.2.5) (3.0.9)\n",
            "Requirement already satisfied: python-dateutil>=2.7 in /usr/local/lib/python3.8/dist-packages (from matplotlib->mazemdp>=0.7.3->bbrl-gym==1.2.5) (2.8.2)\n",
            "Requirement already satisfied: kiwisolver>=1.0.1 in /usr/local/lib/python3.8/dist-packages (from matplotlib->mazemdp>=0.7.3->bbrl-gym==1.2.5) (1.4.4)\n",
            "Requirement already satisfied: fonttools>=4.22.0 in /usr/local/lib/python3.8/dist-packages (from matplotlib->mazemdp>=0.7.3->bbrl-gym==1.2.5) (4.38.0)\n",
            "Requirement already satisfied: pillow>=6.2.0 in /usr/local/lib/python3.8/dist-packages (from matplotlib->mazemdp>=0.7.3->bbrl-gym==1.2.5) (8.4.0)\n",
            "Requirement already satisfied: packaging>=20.0 in /usr/local/lib/python3.8/dist-packages (from matplotlib->mazemdp>=0.7.3->bbrl-gym==1.2.5) (23.0)\n",
            "Requirement already satisfied: cycler>=0.10 in /usr/local/lib/python3.8/dist-packages (from matplotlib->mazemdp>=0.7.3->bbrl-gym==1.2.5) (0.11.0)\n",
            "Requirement already satisfied: six>=1.5 in /usr/local/lib/python3.8/dist-packages (from python-dateutil>=2.7->matplotlib->mazemdp>=0.7.3->bbrl-gym==1.2.5) (1.15.0)\n"
          ]
        }
      ]
    },
    {
      "cell_type": "code",
      "metadata": {
        "id": "PE58RHs9dEEh"
      },
      "source": [
        "import os\n",
        "from typing import Tuple, List\n",
        "\n",
        "import numpy as np\n",
        "import matplotlib.pyplot as plt\n",
        "\n",
        "import gym\n",
        "import bbrl_gym\n",
        "\n",
        "import time\n",
        "\n",
        "from mazemdp.maze_plotter import show_videos\n",
        "from bbrl_gym.envs.maze_mdp import MazeMDPEnv\n",
        "\n",
        "# For visualization\n",
        "os.environ[\"VIDEO_FPS\"] = \"5\"\n",
        "if not os.path.isdir(\"./videos\"):\n",
        "    os.mkdir(\"./videos\")\n",
        "\n",
        "from IPython.display import Video\n",
        "from gym.wrappers.monitoring.video_recorder import VideoRecorder"
      ],
      "execution_count": null,
      "outputs": []
    },
    {
      "cell_type": "markdown",
      "metadata": {
        "id": "Sa3oM2C1CqLl"
      },
      "source": [
        "# Agents and MDPs #"
      ]
    },
    {
      "cell_type": "markdown",
      "metadata": {
        "id": "eL3B_dpu-H-f"
      },
      "source": [
        "\n",
        "A reinforcement learning agent interacts with an environment represented as a Markov Decision Process (MDP). It is defined by a tuple $(S, A, P, r, \\gamma)$ where $S$ is the state space, $A$ is the action space, $P(state_t, action_t, state_{t+1})$ is the transition function, $r(state_t, action_t)$ is the reward function and $\\gamma \\in [0, 1]$ is the discount factor.\n",
        "\n"
      ]
    },
    {
      "cell_type": "markdown",
      "metadata": {
        "id": "A-5EU9BalMQI"
      },
      "source": [
        "In what follows we import code to create an MDP corresponding to a random maze (see https://github.com/osigaud/SimpleMazeMDP for documentation)."
      ]
    },
    {
      "cell_type": "code",
      "metadata": {
        "id": "OvSGrPnKlXxf",
        "colab": {
          "base_uri": "https://localhost:8080/",
          "height": 377,
          "referenced_widgets": [
            "59562ea7af4449f5a93459c655e629be",
            "8fdff66b03ea49cd92aead1e604be715"
          ]
        },
        "outputId": "2686ccb8-76d0-4063-cda7-dee41102131a"
      },
      "source": [
        "env = gym.make(\"MazeMDP-v0\", kwargs={\"width\": 5, \"height\": 5, \"ratio\": 0.2})\n",
        "env.reset()\n",
        "\n",
        "# in dynamic programming, there is no agent moving in the environment\n",
        "env.set_no_agent()\n",
        "env.init_draw(\"The maze\")"
      ],
      "execution_count": null,
      "outputs": [
        {
          "output_type": "display_data",
          "data": {
            "text/plain": [
              "Output()"
            ],
            "application/vnd.jupyter.widget-view+json": {
              "version_major": 2,
              "version_minor": 0,
              "model_id": "59562ea7af4449f5a93459c655e629be"
            }
          },
          "metadata": {}
        }
      ]
    },
    {
      "cell_type": "markdown",
      "metadata": {
        "id": "pL-L0w1ECuah"
      },
      "source": [
        "# Dynamic programming #"
      ]
    },
    {
      "cell_type": "markdown",
      "metadata": {
        "id": "jHUlXv9TCha4"
      },
      "source": [
        "\n",
        "The goal of an RL agent is to find the optimal behaviour, defined by a policy $\\pi$ that assigns an action (or distribution over actions) to each state so as to maximize the agent's total expected reward. In order to estimate how good a state is, either a state value function $V(x)$ or a state-action value function $Q(x,u)$ is used.\n",
        "\n",
        "Dynamic programming algorithms are used for planning, they require a full knowledge of the MDP from the agent (in contrast to \"true\" RL where the agent does not know the transition and reward functions).\n",
        "They find the optimal policy by computing a value function $V$ or an action-value function $Q$ over the state space or state-action space of the given MDP. **Value iteration** and **policy iteration** are two standard dynamic programming algorithms. You should study both of them using both $V$ and $Q$, as these algorithms contain the basic building blocks for most RL algorithms.\n"
      ]
    },
    {
      "cell_type": "markdown",
      "metadata": {
        "id": "LTW9XJD8DjsD"
      },
      "source": [
        "## Value Iteration ##"
      ]
    },
    {
      "cell_type": "markdown",
      "metadata": {
        "id": "jpjrIBqEDmyl"
      },
      "source": [
        "### Value Iteration with the V function ###\n"
      ]
    },
    {
      "cell_type": "markdown",
      "metadata": {
        "id": "8eSkbueDDrw2"
      },
      "source": [
        "\n",
        "When using the $V$ function, **value iteration** aims at finding the optimal values $V^*$ based on the Bellman Optimality Equation:\n",
        "$$V^*(s) = \\max_a \\big[ r(s,a) + \\gamma \\sum_{y \\in S} P(s,a,y)V^*(y) \\big],$$\n",
        "\n",
        "where:\n",
        "\n",
        "*   $r(s, a)$ is the reward obtained from taking action $a$ in state $s$,\n",
        "*   $P(s, a, y)$ is the probability of reaching state $y$ when taking action $a$ in state $s$,\n",
        "*   $\\gamma \\in [0,1]$ is a discount factor defining the relative importance of long term rewards over short term ones (the closer to 0, the more the agent focuses on immediate rewards).\n",
        "\n",
        "In practice, we start with an initial value function $V^0$ (for instance, the values of all states are 0), and then we iterate for all states $s$\n",
        "\n",
        "$$V^{i+1}(s) = \\max_a \\big[ r(s,a) + \\gamma \\sum_{y \\in S} P(s,a,y)V^i(y) \\big],$$\n",
        "\n",
        "until the values converge, that is $\\forall s, V^{i+1}(s) \\approx V^i(s)$. It is shown that at convergence, $\\forall s, V^i(s)= V^*(s)$."
      ]
    },
    {
      "cell_type": "markdown",
      "metadata": {
        "id": "8cwhDCVznRfx"
      },
      "source": [
        "To visualize the policy obtained from **value iteration**, we need to first define the `get_policy_from_V()` function"
      ]
    },
    {
      "cell_type": "code",
      "metadata": {
        "id": "uLJ6ccP0aNpR"
      },
      "source": [
        "def get_policy_from_v(mdp: MazeMDPEnv, v: np.ndarray) -> np.ndarray:\n",
        "    # Outputs a policy given the state values\n",
        "    policy = np.zeros(mdp.nb_states)  # initial state values are set to 0\n",
        "    for x in range(mdp.nb_states):  # for each state x\n",
        "        if x not in mdp.terminal_states:\n",
        "            # Compute the value of the state x for each action u of the MDP action space\n",
        "            v_temp = []\n",
        "            for u in range(mdp.action_space.n):\n",
        "                # Process sum of the values of the neighbouring states\n",
        "                summ = 0\n",
        "                for y in range(mdp.nb_states):\n",
        "                    summ = summ + mdp.P[x, u, y] * v[y]\n",
        "                v_temp.append(mdp.r[x, u] + mdp.gamma * summ)\n",
        "            policy[x] = np.argmax(v_temp)\n",
        "    return policy"
      ],
      "execution_count": null,
      "outputs": []
    },
    {
      "cell_type": "markdown",
      "metadata": {
        "id": "pX2cGPT9nNga"
      },
      "source": [
        "\n",
        "The `value_iteration_v(mdp)` function below provides the code of **value iteration** using the $V$ function. It is given as an example from which you can derive other instances of dynamic programming algorithms. Look at it more closely, this will help for later questions:\n",
        "\n",
        "* you can ignore the `mdp.new_render()` and `mdp.render(...)` functions which are here to provide the visualization of the iterations.\n",
        "* find in the code the loop over states, the main loop that performs these updates until the values don't change significantly anymore, the main update equation. Found them? OK, you can continue...\n"
      ]
    },
    {
      "cell_type": "code",
      "metadata": {
        "id": "FUurUq7val7K"
      },
      "source": [
        "# ----------------- Value Iteration with the V function ----------------------#\n",
        "# Given a MDP, this algorithm computes the optimal state value function V\n",
        "# It then derives the optimal policy based on this function\n",
        "# This function is given\n",
        "\n",
        "def value_iteration_v(mdp: MazeMDPEnv, render: bool = True) -> Tuple[np.ndarray, List[float]]:\n",
        "    # Value Iteration using the state value v\n",
        "    start_time = time.time()\n",
        "    v = np.zeros(mdp.nb_states)  # initial state values are set to 0\n",
        "    v_list = []\n",
        "    stop = False\n",
        "    v_iter=0\n",
        "    v_update=0\n",
        "\n",
        "    video_recorder = VideoRecorder(mdp, \"videos/ValueIterationV.mp4\", enabled=render)\n",
        "    mdp.set_title(\"Value iteration V\")\n",
        "    if render:\n",
        "        mdp.render()\n",
        "        video_recorder.capture_frame()\n",
        "    mdp.set_render_func(mdp.draw_v, lambda draw: draw(v))\n",
        "\n",
        "    while not stop:\n",
        "        v_iter+=1\n",
        "        v_old = v.copy()\n",
        "        if render:\n",
        "            mdp.render()\n",
        "            video_recorder.capture_frame()\n",
        "\n",
        "        for x in range(mdp.nb_states):  # for each state x\n",
        "            # Compute the value of the state x for each action u of the MDP action space\n",
        "            if x not in mdp.terminal_states:\n",
        "                v_update+=1\n",
        "                v_temp = []\n",
        "                for u in range(mdp.action_space.n):\n",
        "                    # Process sum of the values of the neighbouring states\n",
        "                    summ = 0\n",
        "                    for y in range(mdp.nb_states):\n",
        "                        summ = summ + mdp.P[x, u, y] * v_old[y]\n",
        "                    v_temp.append(mdp.r[x, u] + mdp.gamma * summ)\n",
        "\n",
        "                # Select the highest state value among those computed\n",
        "                v[x] = np.max(v_temp)\n",
        "\n",
        "        # Test if convergence has been reached\n",
        "        if (np.linalg.norm(v - v_old)) < 0.01:\n",
        "            stop = True\n",
        "        v_list.append(np.linalg.norm(v))\n",
        "\n",
        "    if render:\n",
        "        policy = get_policy_from_v(mdp, v)\n",
        "        mdp.set_render_func(mdp.draw_v_pi, lambda draw: draw(v, policy))\n",
        "        mdp.render()\n",
        "        video_recorder.capture_frame()\n",
        "\n",
        "\n",
        "    video_recorder.close()\n",
        "    return v, v_list, v_iter, v_update, time.time()-start_time\n"
      ],
      "execution_count": null,
      "outputs": []
    },
    {
      "cell_type": "markdown",
      "metadata": {
        "id": "o9eR8ClAmsGH"
      },
      "source": [
        "Let us run it on the previously defined MDP"
      ]
    },
    {
      "cell_type": "code",
      "metadata": {
        "id": "2PTk3t-tmoE4",
        "colab": {
          "base_uri": "https://localhost:8080/",
          "height": 377,
          "referenced_widgets": [
            "e5e1a88cc0b843d5bbb5e428d6395d37",
            "9a0a3eb2b3a649838a61f0d05cabdbfa"
          ]
        },
        "outputId": "d82a3043-f4c7-4236-8eaf-d81de46bafe4"
      },
      "source": [
        "v, v_list, v_iter, v_update, v_time = value_iteration_v(env, render=True)"
      ],
      "execution_count": null,
      "outputs": [
        {
          "output_type": "display_data",
          "data": {
            "text/plain": [
              "Output()"
            ],
            "application/vnd.jupyter.widget-view+json": {
              "version_major": 2,
              "version_minor": 0,
              "model_id": "e5e1a88cc0b843d5bbb5e428d6395d37"
            }
          },
          "metadata": {}
        }
      ]
    },
    {
      "cell_type": "code",
      "metadata": {
        "id": "gQI6BSI99CxZ",
        "colab": {
          "base_uri": "https://localhost:8080/",
          "height": 17
        },
        "outputId": "01d39d57-acc0-4d8e-ddf0-d91b7c5fec3f"
      },
      "source": [
        "show_videos(\"videos/\", prefix=\"ValueiterationV\")"
      ],
      "execution_count": null,
      "outputs": [
        {
          "output_type": "display_data",
          "data": {
            "text/plain": [
              "<IPython.core.display.HTML object>"
            ],
            "text/html": []
          },
          "metadata": {}
        }
      ]
    },
    {
      "cell_type": "markdown",
      "metadata": {
        "id": "MdWqPhuHE8cd"
      },
      "source": [
        "### Value iteration with the $Q$ function ###"
      ]
    },
    {
      "cell_type": "markdown",
      "metadata": {
        "id": "K09BVcjDFTSZ"
      },
      "source": [
        "\n",
        "The state-action value function $Q^{\\pi}(s,a)$ defines the value of being in state $s$, taking action $a$ then following policy $\\pi$. The Bellman Optimality Equation for $Q^*$ is\n",
        "$$ Q^*(s,a) =  r(s,a) + \\gamma \\sum_{y} P(s,a,y) \\max_{a'}Q^*(y,a'). $$\n"
      ]
    },
    {
      "cell_type": "markdown",
      "metadata": {
        "id": "ga2GQ666FZLv"
      },
      "source": [
        "**Question:** By taking inspiration from the `value_iteration_v(mdp)` function above, fill the blank (given with '\\#Q[x,u]=...') in the code of `value_iteration_q(mdp)`."
      ]
    },
    {
      "cell_type": "code",
      "metadata": {
        "id": "TnL0la4Vatk0"
      },
      "source": [
        "# ------------------ Value Iteration with the Q function ---------------------#\n",
        "# Given a MDP, this algorithm computes the optimal action value function Q\n",
        "# It then derives the optimal policy based on this function\n",
        "\n",
        "def value_iteration_q(mdp: MazeMDPEnv, render: bool = True) -> Tuple[np.ndarray, List[float]]:\n",
        "    start_time = time.time()\n",
        "    q = np.zeros((mdp.nb_states, mdp.action_space.n))  # initial action values are set to 0\n",
        "    q_list = []\n",
        "    stop = False\n",
        "    q_iter=0\n",
        "    q_update=0\n",
        "\n",
        "    if render:\n",
        "        mdp.init_draw(\"Value iteration Q\")\n",
        "\n",
        "    while not stop:\n",
        "        q_iter+=1\n",
        "        qold = q.copy()\n",
        "\n",
        "        if render:\n",
        "            mdp.draw_v(q, title=\"Value iteration Q\")\n",
        "\n",
        "        for x in range(mdp.nb_states):# for each state x\n",
        "        # Compute the value of the state x for each action u of the MDP action space\n",
        "            if x not in mdp.terminal_states:\n",
        "                q_update+=1\n",
        "                for u in range(mdp.action_space.n):\n",
        "                    summ = 0\n",
        "                    for y in range(mdp.nb_states):\n",
        "                        summ += mdp.P[x, u, y] * np.max(qold[y, :])\n",
        "                    q[x,u]=mdp.r[x,u]+mdp.gamma*summ\n",
        "\n",
        "        if (np.linalg.norm(q - qold)) <= 0.01:\n",
        "            stop = True\n",
        "        q_list.append(np.linalg.norm(q))\n",
        "\n",
        "    if render:\n",
        "        mdp.draw_v(q, title=\"Value iteration Q\")\n",
        "        mdp.mdp.plotter.video_writer.release()\n",
        "\n",
        "    return q, q_list, q_iter, q_update, time.time()-start_time\n"
      ],
      "execution_count": null,
      "outputs": []
    },
    {
      "cell_type": "markdown",
      "metadata": {
        "id": "_RrcM7TkoPos"
      },
      "source": [
        "Once you are done, run it."
      ]
    },
    {
      "cell_type": "code",
      "metadata": {
        "id": "JVLEEwPwoUee",
        "colab": {
          "base_uri": "https://localhost:8080/",
          "height": 377,
          "referenced_widgets": [
            "411344f204304349a80c313d9acd29e0",
            "eb5fb90d355a474785d0dece54bb1d04"
          ]
        },
        "outputId": "0a943909-40cc-4ccc-8b75-cb34cb813156"
      },
      "source": [
        "q, q_list, q_iter, q_update, q_time = value_iteration_q(env, render=True)"
      ],
      "execution_count": null,
      "outputs": [
        {
          "output_type": "display_data",
          "data": {
            "text/plain": [
              "Output()"
            ],
            "application/vnd.jupyter.widget-view+json": {
              "version_major": 2,
              "version_minor": 0,
              "model_id": "411344f204304349a80c313d9acd29e0"
            }
          },
          "metadata": {}
        }
      ]
    },
    {
      "cell_type": "code",
      "metadata": {
        "id": "8ngkVo-y9gCG",
        "colab": {
          "base_uri": "https://localhost:8080/",
          "height": 439
        },
        "outputId": "7b5557a1-5f08-4f8f-82e8-55c9a6e11d5a"
      },
      "source": [
        "show_videos(\"videos/\", prefix=\"ValueiterationQ\")"
      ],
      "execution_count": null,
      "outputs": [
        {
          "output_type": "stream",
          "name": "stdout",
          "text": [
            "Converting videos/ValueiterationQ.avi\n"
          ]
        },
        {
          "output_type": "display_data",
          "data": {
            "text/plain": [
              "<IPython.core.display.HTML object>"
            ],
            "text/html": [
              "<video alt=\"videos/ValueiterationQ.mp4\" autoplay\n",
              "                    loop controls style=\"height: 400px;\">\n",
              "                    <source src=\"data:video/mp4;base64,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\" type=\"video/mp4\" />\n",
              "                </video>"
            ]
          },
          "metadata": {}
        }
      ]
    },
    {
      "cell_type": "markdown",
      "metadata": {
        "id": "BN6zdsd9F_dn"
      },
      "source": [
        "## Policy Iteration ##"
      ]
    },
    {
      "cell_type": "markdown",
      "metadata": {
        "id": "1R1x-PDzGH_5"
      },
      "source": [
        "\n",
        "The **policy iteration** algorithm is more complicated than **value iteration**.\n",
        "Given a MDP and a policy $\\pi$, **policy iteration** iterates the following steps:\n",
        "\n",
        "*   Evaluate policy $\\pi$: compute $V$ or $Q$ based on the policy $\\pi$;\n",
        "*   Improve policy $\\pi$: compute a better policy based on $V$ or $Q$.\n",
        "\n",
        "This process is repeated until convergence, i.e. when the policy cannot be improved anymore.\n"
      ]
    },
    {
      "cell_type": "markdown",
      "metadata": {
        "id": "XiiWPQO2GlKy"
      },
      "source": [
        "### Policy iteration with the $V$ function ###"
      ]
    },
    {
      "cell_type": "markdown",
      "metadata": {
        "id": "4L0IiPkNGryB"
      },
      "source": [
        "When using $V$, $V^{\\pi}(s)$ is the expected return when starting from state $s$ and following policy $\\pi$. It is processed based on the Bellman Optimality Equation for deterministic policies:\n",
        "\n",
        "$$V^\\pi(s) = r(s, \\pi(s)) + \\gamma \\sum_{y \\in S}P(s, \\pi(s), y)V^\\pi(y),$$\n",
        "\n",
        "\n",
        "where:\n",
        "\n",
        "*   $\\pi$ is a deterministic policy, meaning that in a state $s$, the agent always selects the same action,\n",
        "*   $V^\\pi(y)$ is the value of the state $y$ under policy $\\pi$.\n",
        "\n",
        "\n",
        "Thus, given a policy $\\pi$, one must first compute its value function $V^\\pi(s)$ for all states $s$ iterating the Bellman Optimality Equation until convergence, that is using **value iteration**.\n",
        "Then, one must determine if policy $\\pi$ can be improved based on $V$. For that, in each state $s$, one can compute the Q-value $Q(s,a)$ of applying action $a$ and then following policy $\\pi$ based on the just computed $V^\\pi$, and replace the action $\\pi(s)$ with $\\arg\\max_a Q(s,a)$.\n"
      ]
    },
    {
      "cell_type": "markdown",
      "metadata": {
        "id": "1ifSjTGpJsBd"
      },
      "source": [
        "\n",
        "In order to facilitate the coding of **policy iteration** algorithms, we first define a set of useful functions.\n",
        "\n",
        "The `improve_policy_from_v(mdp, v, policy)` function is very similar to the `get_policy_from_v(v)` function which was given above. The main difference is that it takes a policy as argument and improves this policy when possible, thus is is more in the spirit of the `policy improvement` step of **policy iteration**. But both functions can be used interchangeably.\n",
        "\n",
        "The functions `evaluate_one_step_v(mdp, v, policy)`, where `mdp` is a given MDP, `v` is some value function in this MDP and `policy` is some policy and the function `evaluate_v(mdp, policy)` are also given. These functions are used to build the value function $V^\\pi$ corresponding to policy $\\pi$.\n"
      ]
    },
    {
      "cell_type": "code",
      "metadata": {
        "id": "WTHPccOTaTMM"
      },
      "source": [
        "def improve_policy_from_v(mdp: MazeMDPEnv, v: np.ndarray, policy: np.ndarray, v_update) -> np.ndarray:\n",
        "    # Improves a policy given the state values\n",
        "    for x in range(mdp.nb_states):  # for each state x\n",
        "        # Compute the value of the state x for each action u of the MDP action space\n",
        "        if x not in mdp.terminal_states:\n",
        "            v_update+=1\n",
        "            v_temp = np.zeros(mdp.action_space.n)\n",
        "            for u in range(mdp.action_space.n):\n",
        "                # Process sum of the values of the neighbouring states\n",
        "                summ = 0\n",
        "                for y in range(mdp.nb_states):\n",
        "                    summ = summ + mdp.P[x, u, y] * v[y]\n",
        "                v_temp[u] = mdp.r[x, u] + mdp.gamma * summ\n",
        "\n",
        "            for u in range(mdp.action_space.n):\n",
        "                if v_temp[u] > v_temp[policy[x]]:\n",
        "                    policy[x] = u\n",
        "    return policy, v_update"
      ],
      "execution_count": null,
      "outputs": []
    },
    {
      "cell_type": "code",
      "metadata": {
        "id": "gTFXjB2laYEt"
      },
      "source": [
        "def evaluate_one_step_v(mdp: MazeMDPEnv, v: np.ndarray, policy: np.ndarray) -> np.ndarray:\n",
        "    # Outputs the state value function after one step of policy evaluation\n",
        "    # Corresponds to one application of the Bellman Operator\n",
        "    v_new = np.zeros(mdp.nb_states)  # initial state values are set to 0\n",
        "    for x in range(mdp.nb_states):  # for each state x\n",
        "        # Compute the value of the state x for each action u of the MDP action space\n",
        "        if x not in mdp.terminal_states:\n",
        "            # Process sum of the values of the neighbouring states\n",
        "            summ = 0\n",
        "            for y in range(mdp.nb_states):\n",
        "                summ = summ + mdp.P[x, policy[x], y] * v[y]\n",
        "            v_new[x] = mdp.r[x, policy[x]] + mdp.gamma * summ\n",
        "    return v_new"
      ],
      "execution_count": null,
      "outputs": []
    },
    {
      "cell_type": "code",
      "metadata": {
        "id": "8gb9BGM1aa7p"
      },
      "source": [
        "def evaluate_v(mdp: MazeMDPEnv, policy: np.ndarray) -> np.ndarray:\n",
        "    # Outputs the state value function of a policy\n",
        "    v = np.zeros(mdp.nb_states)  # initial state values are set to 0\n",
        "    stop = False\n",
        "    while not stop:\n",
        "        vold = v.copy()\n",
        "        v = evaluate_one_step_v(mdp, vold, policy)\n",
        "\n",
        "        # Test if convergence has been reached\n",
        "        if (np.linalg.norm(v - vold)) < 0.01:\n",
        "            stop = True\n",
        "    return v"
      ],
      "execution_count": null,
      "outputs": []
    },
    {
      "cell_type": "markdown",
      "metadata": {
        "id": "xpvHat5dqAvl"
      },
      "source": [
        "To perform **policy iteration** we also need an initial random policy."
      ]
    },
    {
      "cell_type": "code",
      "metadata": {
        "id": "E2E3k7-vdV81"
      },
      "source": [
        "from mazemdp import random_policy"
      ],
      "execution_count": null,
      "outputs": []
    },
    {
      "cell_type": "markdown",
      "metadata": {
        "id": "g6gyHWWoMF4i"
      },
      "source": [
        "**Question:** By using the above functions, fill the code of the `policy_iteration_v(mdp)` function below."
      ]
    },
    {
      "cell_type": "code",
      "metadata": {
        "id": "XR3FHBGZa5qp"
      },
      "source": [
        "# ---------------- Policy Iteration with the V function -----------------#\n",
        "# Given an MDP, this algorithm simultaneously computes\n",
        "# the optimal state value function V and the optimal policy\n",
        "\n",
        "def policy_iteration_v(mdp: MazeMDPEnv, render: bool = True) -> Tuple[np.ndarray, List[float]]:\n",
        "    start_time = time.time()\n",
        "    # policy iteration over the v function\n",
        "    v = np.zeros(mdp.nb_states)  # initial state values are set to 0\n",
        "    v_list = []\n",
        "    policy = random_policy(mdp)\n",
        "    v_iter=0\n",
        "    v_update=0\n",
        "\n",
        "    stop = False\n",
        "\n",
        "    if render:\n",
        "        mdp.init_draw(\"Policy iteration V\")\n",
        "\n",
        "    while not stop:\n",
        "        v_iter+=1\n",
        "        vold = v.copy()\n",
        "        # Step 1 : Policy Evaluation\n",
        "        # To be completed...\n",
        "        #assert False, 'Not implemented yet'\n",
        "        v = evaluate_v(mdp, policy)\n",
        "\n",
        "        if render:\n",
        "            mdp.draw_v_pi(v, policy, title=\"Policy iteration V\")\n",
        "\n",
        "        # Step 2 : Policy Improvement\n",
        "        # To be completed...\n",
        "        #assert False, 'Not implemented yet'\n",
        "        policy, v_update = improve_policy_from_v(mdp, v, policy, v_update)\n",
        "\n",
        "        # Check convergence\n",
        "        if (np.linalg.norm(v - vold)) < 0.01:\n",
        "            stop = True\n",
        "        v_list.append(np.linalg.norm(v))\n",
        "\n",
        "    if render:\n",
        "        mdp.draw_v_pi(v, policy, title=\"Policy iteration V\")\n",
        "        mdp.mdp.plotter.video_writer.release()\n",
        "\n",
        "    return v, v_list, v_iter, v_update, time.time()-start_time\n",
        "\n"
      ],
      "execution_count": null,
      "outputs": []
    },
    {
      "cell_type": "markdown",
      "metadata": {
        "id": "sNCykfE9qKlH"
      },
      "source": [
        "And finally run it."
      ]
    },
    {
      "cell_type": "code",
      "metadata": {
        "id": "fxzgX6UFqOcX",
        "colab": {
          "base_uri": "https://localhost:8080/",
          "height": 377,
          "referenced_widgets": [
            "04b67b0bd0a44d3ea8985c517787c8b3",
            "ec1bc89bdf1f4304bff6b06d38099e2e"
          ]
        },
        "outputId": "019d0379-1ec3-4e7b-c8ac-ca022c2ea1d0"
      },
      "source": [
        "v, v_list, v_iter, v_update, v_time = policy_iteration_v(env, render=True)"
      ],
      "execution_count": null,
      "outputs": [
        {
          "output_type": "display_data",
          "data": {
            "text/plain": [
              "Output()"
            ],
            "application/vnd.jupyter.widget-view+json": {
              "version_major": 2,
              "version_minor": 0,
              "model_id": "04b67b0bd0a44d3ea8985c517787c8b3"
            }
          },
          "metadata": {}
        }
      ]
    },
    {
      "cell_type": "markdown",
      "metadata": {
        "id": "f64zjARKIT7s"
      },
      "source": [
        "### Policy iteration with the $Q$ function ###"
      ]
    },
    {
      "cell_type": "markdown",
      "metadata": {
        "id": "hfOgv6znIbF6"
      },
      "source": [
        "\n",
        "The **policy iteration** algorithm with the $Q$ function is the same as with the $V$ function, but the policy improvement step is more straightforward.\n",
        "\n",
        "When using $Q$, the Bellman Optimality Equation with deterministic policy $\\pi$ for $Q$ becomes:\n",
        "$$Q^{\\pi}(s,a) = r(s,a) + \\gamma \\sum_{y \\in S}P(s,a,y)Q^{\\pi}(y,\\pi(y)).$$\n",
        "\n",
        "The policy can then be updated as follows:\n",
        "$$\\pi^{(t+1)}(s) = \\arg\\max_aQ^{\\pi^{(t)}}(s,a).$$\n"
      ]
    },
    {
      "cell_type": "markdown",
      "metadata": {
        "id": "_S-sF4ynqlUF"
      },
      "source": [
        "First, we need to determine a policy from the $Q$ function."
      ]
    },
    {
      "cell_type": "markdown",
      "metadata": {
        "id": "vDeb82mSJ2gJ"
      },
      "source": [
        "**Question:**  fill the `get_policy_from_q(q)` function, where $q$ is the state-action value function."
      ]
    },
    {
      "cell_type": "code",
      "metadata": {
        "id": "rfNl_xDlSYIy"
      },
      "source": [
        "def get_policy_from_q(q: np.ndarray) -> np.ndarray:\n",
        "    # Outputs a policy given the action values\n",
        "    # To be completed...\n",
        "    # lenx, leny=np.shape(q)\n",
        "    # policy = np.zeros(lenx)\n",
        "    # for x in range(lenx):\n",
        "    #   policy[x] = np.argmax(q[x,:])\n",
        "    return np.argmax(q,axis=1)\n",
        "    #assert False, 'Not implemented yet'"
      ],
      "execution_count": null,
      "outputs": []
    },
    {
      "cell_type": "markdown",
      "metadata": {
        "id": "4F_ueGD5K4jI"
      },
      "source": [
        "**Question:** By drawing inspiration on the functions give with the $v$ function, fill the code of the `evaluate_one_step_q(mdp, q, policy)` function below, where $q$ is some action value function, and the `evaluate_q(mdp, policy)` function."
      ]
    },
    {
      "cell_type": "code",
      "metadata": {
        "id": "7zSOoqvJafLo"
      },
      "source": [
        "def evaluate_one_step_q(mdp: MazeMDPEnv, q: np.ndarray, policy: np.ndarray, q_update) -> np.ndarray:\n",
        "    # Outputs the state value function after one step of policy evaluation\n",
        "    qnew = np.zeros((mdp.nb_states, mdp.action_space.n))  # initial action values are set to 0\n",
        "    for x in range(mdp.nb_states):  # for each state x\n",
        "        # Compute the value of the state x for each action u of the MDP action space\n",
        "        if x not in mdp.terminal_states:\n",
        "            q_update+=1\n",
        "            for u in range(mdp.action_space.n):\n",
        "                # Process sum of the values of the neighbouring states\n",
        "                summ = 0\n",
        "                for y in range(mdp.nb_states):\n",
        "                    # To be completed...\n",
        "                    #assert False, 'Not implemented yet'\n",
        "                    #if y in mdp.terminal_states:\n",
        "                    #  break\n",
        "                    #print(policy[y], \"y = \", y)\n",
        "                    summ += mdp.P[x,u,y] * q[y, policy[y]]\n",
        "\n",
        "                # To be completed...\n",
        "                #assert False, 'Not implemented yet'\n",
        "                qnew[x, u] = mdp.r[x, u]+mdp.gamma*summ\n",
        "    return qnew, q_update"
      ],
      "execution_count": null,
      "outputs": []
    },
    {
      "cell_type": "code",
      "metadata": {
        "id": "Phlt5QfbaiWw"
      },
      "source": [
        "def evaluate_q(mdp: MazeMDPEnv, policy: np.ndarray, q_update) -> np.ndarray:\n",
        "    # Outputs the state value function of a policy\n",
        "    q = np.zeros((mdp.nb_states, mdp.action_space.n))  # initial action values are set to 0\n",
        "    stop = False\n",
        "    while not stop:\n",
        "        qold = q.copy()\n",
        "        q, q_update = evaluate_one_step_q(mdp, qold, policy, q_update)\n",
        "\n",
        "        # Test if convergence has been reached\n",
        "        if (np.linalg.norm(q - qold)) < 0.01:\n",
        "            stop = True\n",
        "    return q, q_update\n",
        "\n",
        "# def evaluate_v(mdp: MazeMDPEnv, policy: np.ndarray) -> np.ndarray:\n",
        "#     # Outputs the state value function of a policy\n",
        "#     v = np.zeros(mdp.nb_states)  # initial state values are set to 0\n",
        "#     stop = False\n",
        "#     while not stop:\n",
        "#         vold = v.copy()\n",
        "#         v = evaluate_one_step_v(mdp, vold, policy)\n",
        "\n",
        "#         # Test if convergence has been reached\n",
        "#         if (np.linalg.norm(v - vold)) < 0.01:\n",
        "#             stop = True\n",
        "#     return v"
      ],
      "execution_count": null,
      "outputs": []
    },
    {
      "cell_type": "markdown",
      "metadata": {
        "id": "pO99FFnqL51O"
      },
      "source": [
        "**Question:** By using the above functions, fill the code of the `policy_iteration_q(mdp)` function below."
      ]
    },
    {
      "cell_type": "code",
      "metadata": {
        "id": "kM5vOv5XazEq"
      },
      "source": [
        "# ---------------- Policy Iteration with the Q function -----------------#\n",
        "# Given a MDP, this algorithm simultaneously computes\n",
        "# the optimal action value function Q and the optimal policy\n",
        "\n",
        "def policy_iteration_q(mdp: MazeMDPEnv, render: bool = True) -> Tuple[np.ndarray, List[float]]:\n",
        "    start_time = time.time()\n",
        "    \"\"\"policy iteration over the q function.\"\"\"\n",
        "    q = np.zeros((mdp.nb_states, mdp.action_space.n))  # initial action values are set to 0\n",
        "    q_list = []\n",
        "    policy = random_policy(mdp)\n",
        "    q_iter=0\n",
        "    q_update=0\n",
        "\n",
        "    stop = False\n",
        "\n",
        "    if render:\n",
        "        mdp.init_draw(\"Policy iteration Q\")\n",
        "\n",
        "    while not stop:\n",
        "        q_iter+=1\n",
        "        qold = q.copy()\n",
        "\n",
        "        if render:\n",
        "            mdp.draw_v(q, title=\"Policy iteration Q\")\n",
        "\n",
        "        # Step 1 : Policy evaluation\n",
        "        q, q_update = evaluate_q(mdp, policy, q_update)\n",
        "\n",
        "        # Step 2 : Policy improvement\n",
        "        policy = get_policy_from_q(q)\n",
        "\n",
        "        # Check convergence\n",
        "        if (np.linalg.norm(q - qold)) <= 0.01:\n",
        "            stop = True\n",
        "        q_list.append(np.linalg.norm(q))\n",
        "\n",
        "    if render:\n",
        "        mdp.draw_v_pi(q, get_policy_from_q(q), title=\"Policy iteration Q\")\n",
        "    return q, q_list, q_iter, q_update, time.time()-start_time\n"
      ],
      "execution_count": null,
      "outputs": []
    },
    {
      "cell_type": "markdown",
      "metadata": {
        "id": "XR999T8Hq1c8"
      },
      "source": [
        "Finally, run it."
      ]
    },
    {
      "cell_type": "code",
      "metadata": {
        "id": "jJ9YfuNEq43H",
        "colab": {
          "base_uri": "https://localhost:8080/",
          "height": 377,
          "referenced_widgets": [
            "612838e1fcc5402fb8c7f77eb3d7621b",
            "3244664c34744fcda38d86f68e57a836"
          ]
        },
        "outputId": "7cf3bf7d-e30e-44f1-b754-8642bc3c9e12"
      },
      "source": [
        "q, q_list, q_iter, q_update, q_time = policy_iteration_q(env, render=True)"
      ],
      "execution_count": null,
      "outputs": [
        {
          "output_type": "display_data",
          "data": {
            "text/plain": [
              "Output()"
            ],
            "application/vnd.jupyter.widget-view+json": {
              "version_major": 2,
              "version_minor": 0,
              "model_id": "612838e1fcc5402fb8c7f77eb3d7621b"
            }
          },
          "metadata": {}
        }
      ]
    },
    {
      "cell_type": "markdown",
      "metadata": {
        "id": "edD-FVlaLvnK"
      },
      "source": [
        "### Study part: Experimental comparisons"
      ]
    },
    {
      "cell_type": "markdown",
      "metadata": {
        "id": "RSnI34THM4Af"
      },
      "source": [
        "We will now compare the efficiency of the various dynamic programming methods using either the $V$ or the  $Q$ functions.\n",
        "\n",
        "In all your dymanic programming functions, add code to count the number of iterations and the number of elementary $V$ or $Q$ updates. Use the provided `mazemdp.Chrono` class to measure the time taken. You may generate various mazes of various sizes to figure out the influence of the maze topology.\n",
        "\n",
        "Build a table where you compare the various dymanic programming functions in terms of iterations, elementary operations and time taken.\n",
        "\n",
        "You can run the `plot_convergence_vi_pi(...)` function provided below to visualize the convergence of the various algorithms.\n"
      ]
    },
    {
      "cell_type": "code",
      "metadata": {
        "id": "NkfRPpT6a7D6"
      },
      "source": [
        "# ---- plot learning curves of value iteration and policy iteration using V and Q -----#\n",
        "\n",
        "def plot_convergence_vi_pi(env, render):\n",
        "    v, v_list1, v_iter1, v_update1, v_time1 = value_iteration_v(env, render)\n",
        "    q, q_list1, q_iter1, q_update1, q_time1 = value_iteration_q(env, render)\n",
        "    v, v_list2, v_iter2, v_update2, v_time2 = policy_iteration_v(env, render)\n",
        "    q, q_list2, q_iter2, q_update2, q_time2 = policy_iteration_q(env, render)\n",
        "\n",
        "    plt.plot(range(len(v_list1)), v_list1, label='value_iteration_v')\n",
        "    plt.plot(range(len(q_list1)), q_list1, label='value_iteration_q')\n",
        "    plt.plot(range(len(v_list2)), v_list2, label='policy_iteration_v')\n",
        "    plt.plot(range(len(q_list2)), q_list2, label='policy_iteration_q')\n",
        "\n",
        "    plt.xlabel('Number of episodes')\n",
        "    plt.ylabel('Norm of V or Q value')\n",
        "    plt.legend(loc='lower right')\n",
        "    plt.savefig(\"comparison_DP.png\")\n",
        "    plt.title(\"Comparison of convergence rates\")\n",
        "    plt.show()"
      ],
      "execution_count": null,
      "outputs": []
    },
    {
      "cell_type": "markdown",
      "metadata": {
        "id": "nTOUNa1IMb6G"
      },
      "source": [
        "**Question:** Run the code below and visualize the results of the different algorithms"
      ]
    },
    {
      "cell_type": "code",
      "metadata": {
        "id": "zBrTUnLMopHk",
        "colab": {
          "base_uri": "https://localhost:8080/",
          "height": 295
        },
        "outputId": "8b412319-d160-4629-a26e-ca79684ec664"
      },
      "source": [
        "plot_convergence_vi_pi(env, False)\n"
      ],
      "execution_count": null,
      "outputs": [
        {
          "output_type": "display_data",
          "data": {
            "text/plain": [
              "<Figure size 432x288 with 1 Axes>"
            ],
            "image/png": "[encoded data removed]"
          },
          "metadata": {
            "needs_background": "light"
          }
        }
      ]
    },
    {
      "cell_type": "code",
      "source": [
        "import numpy as np\n",
        "\n",
        "def plot_convergence_n_env(render, widthEnv, heightEnv, iteration):\n",
        "\n",
        "    average_value_iteration_v=np.zeros(3)\n",
        "    average_value_iteration_q=np.zeros(3)\n",
        "    average_policy_iteration_v=np.zeros(3)\n",
        "    average_policy_iteration_q=np.zeros(3)\n",
        "\n",
        "    for i in range(iteration):\n",
        "        env = gym.make(\"MazeMDP-v0\", kwargs={\"width\": widthEnv, \"height\": heightEnv, \"ratio\": 0.2})\n",
        "        env.reset()\n",
        "        # in dynamic programming, there is no agent moving in the environment\n",
        "        env.set_no_agent()\n",
        "\n",
        "        v, v_list1, v_iter1, v_update1, v_time1 = value_iteration_v(env, render)\n",
        "        q, q_list1, q_iter1, q_update1, q_time1 = value_iteration_q(env, render)\n",
        "        v, v_list2, v_iter2, v_update2, v_time2 = policy_iteration_v(env, render)\n",
        "        q, q_list2, q_iter2, q_update2, q_time2 = policy_iteration_q(env, render)\n",
        "\n",
        "        average_value_iteration_v += np.array([v_iter1,v_update1,v_time1])\n",
        "        average_value_iteration_q += np.array([q_iter1,q_update1,q_time1])\n",
        "        average_policy_iteration_v += np.array([v_iter2,q_update2,v_time2])\n",
        "        average_policy_iteration_q += np.array([q_iter2,q_update2,q_time2])\n",
        "\n",
        "    # for i in range(3):\n",
        "    #     average_value_iteration_v[i]=average_value_iteration_v[i]/iteration\n",
        "    #     average_value_iteration_q[i]=average_value_iteration_q[i]/iteration\n",
        "    #     average_policy_iteration_v[i]=average_policy_iteration_v[i]/iteration\n",
        "    #     average_policy_iteration_q[i]=average_policy_iteration_q[i]/iteration\n",
        "\n",
        "    return average_value_iteration_v/iteration, average_value_iteration_q/iteration, average_policy_iteration_v/iteration, average_policy_iteration_q/iteration\n"
      ],
      "metadata": {
        "id": "eN3yl5XUZcVb"
      },
      "execution_count": null,
      "outputs": []
    },
    {
      "cell_type": "code",
      "source": [
        "tab_i=[]\n",
        "v_list1=[]\n",
        "q_list1=[]\n",
        "v_list2=[]\n",
        "q_list2=[]\n",
        "for i in range(2,11):\n",
        "    average_value_iteration_v, average_value_iteration_q, average_policy_iteration_v, average_policy_iteration_q = plot_convergence_n_env(False, i, i, 5)\n",
        "    #print(\"Taille du tableau: \", i*i, \"cases\")\n",
        "    #print(average_value_iteration_v)\n",
        "    #print(average_value_iteration_q)\n",
        "    #print(average_policy_iteration_v)\n",
        "    #print(average_policy_iteration_q)\n",
        "    tab_i.append(i)\n",
        "    v_list1.append(average_value_iteration_v[0])\n",
        "    q_list1.append(average_value_iteration_q[0])\n",
        "    v_list2.append(average_policy_iteration_v[0])\n",
        "    q_list2.append(average_policy_iteration_q[0])\n",
        "\n",
        "plt.plot(tab_i, v_list1, label='value_iteration_v')\n",
        "plt.plot(tab_i, q_list1, label='value_iteration_q')\n",
        "plt.plot(tab_i, v_list2, label='policy_iteration_v')\n",
        "plt.plot(tab_i, q_list2, label='policy_iteration_q')\n",
        "\n",
        "plt.ylabel('Number of uterations')\n",
        "plt.xlabel('Square root of the number of cases')\n",
        "plt.legend(loc='upper left')\n",
        "plt.savefig(\"iteration_DP.png\")\n",
        "plt.title(\"Comparison of iterations realised depending on the size of the environment\")\n",
        "plt.show()\n"
      ],
      "metadata": {
        "colab": {
          "base_uri": "https://localhost:8080/",
          "height": 295
        },
        "id": "44TNH1Axbdwd",
        "outputId": "a82c64fc-229a-41ff-a057-803926a829f4"
      },
      "execution_count": null,
      "outputs": [
        {
          "output_type": "display_data",
          "data": {
            "text/plain": [
              "<Figure size 432x288 with 1 Axes>"
            ],
            "image/png": "[encoded data removed]"
          },
          "metadata": {
            "needs_background": "light"
          }
        }
      ]
    },
    {
      "cell_type": "markdown",
      "metadata": {
        "id": "S9LttlIXsB9o"
      },
      "source": [
        "\n",
        "Given the results above, discuss the relative computational efficiency of these methods."
      ]
    },
    {
      "cell_type": "markdown",
      "metadata": {
        "id": "0UGNtcOgsQgZ"
      },
      "source": [
        "### Study part: Generalized Policy Iteration"
      ]
    },
    {
      "cell_type": "markdown",
      "metadata": {
        "id": "l89FvxifsVib"
      },
      "source": [
        "Code the **generalized policy iteration** algorithm and study the influence of the number of evaluation steps between each improvement step"
      ]
    },
    {
      "cell_type": "code",
      "source": [
        "def evaluate_v_times_n(mdp: MazeMDPEnv, policy: np.ndarray, iteration) -> np.ndarray:\n",
        "    # Outputs the state value function of a policy\n",
        "    v = np.zeros(mdp.nb_states)  # initial state values are set to 0\n",
        "    stop = False\n",
        "    for i in range(iteration):\n",
        "        vold = v.copy()\n",
        "        v = evaluate_one_step_v(mdp, vold, policy)\n",
        "        # Test if convergence has been reached\n",
        "        if (np.linalg.norm(v - vold)) < 0.01:\n",
        "            stop = True\n",
        "    return v\n",
        "\n",
        "def generalized_policy_iteration(mdp: MazeMDPEnv, render: bool = True, iteration = 1):\n",
        "    start_time = time.time()\n",
        "    # policy iteration over the v function\n",
        "    v = np.zeros(mdp.nb_states)  # initial state values are set to 0\n",
        "    v_list = []\n",
        "    policy = random_policy(mdp)\n",
        "    v_iter=0\n",
        "    v_update=0\n",
        "\n",
        "    stop = False\n",
        "\n",
        "    if render:\n",
        "        mdp.init_draw(\"Policy iteration V\")\n",
        "\n",
        "    while not stop:\n",
        "        v_iter+=1\n",
        "        vold = v.copy()\n",
        "        # Step 1 : Policy Evaluation\n",
        "        v = evaluate_v_times_n(mdp, policy, iteration)\n",
        "\n",
        "        if render:\n",
        "            mdp.draw_v_pi(v, policy, title=\"Policy iteration V\")\n",
        "\n",
        "        # Step 2 : Policy Improvement\n",
        "        policy, v_update = improve_policy_from_v(mdp, v, policy, v_update)\n",
        "\n",
        "        # Check convergence\n",
        "        if (np.linalg.norm(v - vold)) < 0.01:\n",
        "            stop = True\n",
        "        v_list.append(np.linalg.norm(v))\n",
        "\n",
        "    if render:\n",
        "        mdp.draw_v_pi(v, policy, title=\"Policy iteration V\")\n",
        "        mdp.mdp.plotter.video_writer.release()\n",
        "\n",
        "    return v, v_list, v_iter, v_update, time.time()-start_time\n",
        "\n"
      ],
      "metadata": {
        "id": "1WFjpb9eEZ7J"
      },
      "execution_count": null,
      "outputs": []
    },
    {
      "cell_type": "code",
      "source": [
        "generalized_policy_iteration(env, True, 5)"
      ],
      "metadata": {
        "colab": {
          "base_uri": "https://localhost:8080/",
          "height": 568,
          "referenced_widgets": [
            "343d3f9cad7e4c6db59cd3d3c8326aaf",
            "735b625bcdcc42c0b6ec0b1765be9c40"
          ]
        },
        "id": "vXE5a-SGJOvM",
        "outputId": "b8ee12e2-797d-4297-e04e-868b82754d55"
      },
      "execution_count": null,
      "outputs": [
        {
          "output_type": "display_data",
          "data": {
            "text/plain": [
              "Output()"
            ],
            "application/vnd.jupyter.widget-view+json": {
              "version_major": 2,
              "version_minor": 0,
              "model_id": "343d3f9cad7e4c6db59cd3d3c8326aaf"
            }
          },
          "metadata": {}
        },
        {
          "output_type": "execute_result",
          "data": {
            "text/plain": [
              "(array([0.    , 0.    , 0.    , 0.    , 0.    , 0.    , 0.    , 0.6561,\n",
              "        0.    , 0.    , 0.6561, 0.729 , 0.81  , 0.    , 0.729 , 0.81  ,\n",
              "        0.9   , 0.    , 0.6561, 1.    , 0.    ]),\n",
              " [1.0,\n",
              "  1.5703821191035001,\n",
              "  2.24633399564713,\n",
              "  2.3401888022123343,\n",
              "  2.3401888022123343],\n",
              " 5,\n",
              " 100,\n",
              " 1.805180549621582)"
            ]
          },
          "metadata": {},
          "execution_count": 88
        }
      ]
    },
    {
      "cell_type": "code",
      "source": [],
      "metadata": {
        "id": "UyK44fPGJiU7"
      },
      "execution_count": null,
      "outputs": []
    }
  ]
}